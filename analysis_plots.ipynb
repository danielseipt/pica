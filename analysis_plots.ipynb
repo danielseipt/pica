{
 "cells": [
  {
   "cell_type": "code",
   "execution_count": 1,
   "metadata": {
    "ExecuteTime": {
     "end_time": "2023-08-09T08:23:06.657420Z",
     "start_time": "2023-08-09T08:23:04.107540Z"
    }
   },
   "outputs": [
    {
     "name": "stdout",
     "output_type": "stream",
     "text": [
      "Populating the interactive namespace from numpy and matplotlib\n"
     ]
    }
   ],
   "source": [
    "%pylab inline"
   ]
  },
  {
   "cell_type": "code",
   "execution_count": 2,
   "metadata": {
    "ExecuteTime": {
     "end_time": "2023-08-09T08:23:07.361561Z",
     "start_time": "2023-08-09T08:23:06.661911Z"
    }
   },
   "outputs": [],
   "source": [
    "import h5py\n",
    "import yaml\n",
    "from scipy.interpolate import interp2d,RectBivariateSpline\n",
    "from numpy import *\n",
    "\n",
    "from matplotlib.pyplot import *\n"
   ]
  },
  {
   "cell_type": "code",
   "execution_count": 3,
   "metadata": {
    "ExecuteTime": {
     "end_time": "2023-08-09T08:23:07.586550Z",
     "start_time": "2023-08-09T08:23:07.368061Z"
    }
   },
   "outputs": [],
   "source": [
    "import yaml\n",
    "import numpy as np\n",
    "\n",
    "import luxeics"
   ]
  },
  {
   "cell_type": "code",
   "execution_count": 4,
   "metadata": {
    "ExecuteTime": {
     "end_time": "2023-08-09T08:27:36.761974Z",
     "start_time": "2023-08-09T08:23:07.589808Z"
    },
    "scrolled": false
   },
   "outputs": [
    {
     "name": "stdout",
     "output_type": "stream",
     "text": [
      "{'control': {'mode': 'full', 'name': 'pencil_beam', 'radiation': 'PKN', 'energyaverage': False, 'sampling': 'rejection', 'sample_electrons': '1e8', 'laser': {'sigma_rescale': False, 'sigma_crit': 500.0}, 'beam': {'Nenergy': 7, 'Nemit': 30}}, 'beam': {'gamma': 32289.62818003914, 'energyspread': '1e-3', 'theta': 0.0, 'emittanceX': 0.0, 'emittanceY': 0.0, 'sigmaX': 2.0, 'sigmaY': 2.0, 'sigmaL': 5.0, 'beam_charge': '100e-12', 'beam_focus_z': 0, 'baseline': '7.5e6'}, 'laser': {'a0': 0.1, 'omega0': 4.1, 'Tpulse': 100.0, 'pol': 0.0, 'pulse': 'cos2', 'w0': 25.0}, 'detector': {'pdim': 3, 'omega': ['5.0e9', '9.2e9'], 'theta': [0, '15e-6'], 'phi': [0.0, 6.283185307179586]}}\n",
      "\"control/sample_batch_size\" not specified, set to default value 1e+07\n",
      "n_batches=10, remainder=0, number_of_particles=1e+08=1e+08\n",
      " >> number_electrons   = 624150947\n",
      " >> sample_electrons   = 100000000\n",
      " >> electron weight    = 6.242\n",
      "0 10000000\n",
      "  > batch 000: 1e+07 macroelectrons of weight 6.2415\n",
      "   base photon weight : 5.855278075662355\n",
      "   number photons     : 26092\n",
      "   total photon number: 26092 26092\n",
      "1 10000000\n",
      "  > batch 001: 1e+07 macroelectrons of weight 6.2415\n",
      "   base photon weight : 5.827782872124522\n",
      "   number photons     : 26315\n",
      "   total photon number: 52407 52407\n",
      "2 10000000\n",
      "  > batch 002: 1e+07 macroelectrons of weight 6.2415\n",
      "   base photon weight : 5.784457484011869\n",
      "   number photons     : 26290\n",
      "   total photon number: 78697 78697\n",
      "3 10000000\n",
      "  > batch 003: 1e+07 macroelectrons of weight 6.2415\n",
      "   base photon weight : 5.798745628697113\n",
      "   number photons     : 26714\n",
      "   total photon number: 105411 105411\n",
      "4 10000000\n",
      "  > batch 004: 1e+07 macroelectrons of weight 6.2415\n",
      "   base photon weight : 5.838545714565707\n",
      "   number photons     : 26114\n",
      "   total photon number: 131525 131525\n",
      "5 10000000\n",
      "  > batch 005: 1e+07 macroelectrons of weight 6.2415\n",
      "   base photon weight : 5.823679134003955\n",
      "   number photons     : 26443\n",
      "   total photon number: 157968 157968\n",
      "6 10000000\n",
      "  > batch 006: 1e+07 macroelectrons of weight 6.2415\n",
      "   base photon weight : 5.760576410054645\n",
      "   number photons     : 26410\n",
      "   total photon number: 184378 184378\n",
      "7 10000000\n",
      "  > batch 007: 1e+07 macroelectrons of weight 6.2415\n",
      "   base photon weight : 5.8292176284408335\n",
      "   number photons     : 26298\n",
      "   total photon number: 210676 210676\n",
      "8 10000000\n",
      "  > batch 008: 1e+07 macroelectrons of weight 6.2415\n",
      "   base photon weight : 5.839813109549738\n",
      "   number photons     : 25746\n",
      "   total photon number: 236422 236422\n",
      "9 10000000\n",
      "  > batch 009: 1e+07 macroelectrons of weight 6.2415\n",
      "   base photon weight : 5.843550319685517\n",
      "   number photons     : 25748\n",
      "   total photon number: 262170 262170\n"
     ]
    },
    {
     "ename": "NameError",
     "evalue": "name 'filename' is not defined",
     "output_type": "error",
     "traceback": [
      "\u001b[0;31m---------------------------------------------------------------------------\u001b[0m",
      "\u001b[0;31mNameError\u001b[0m                                 Traceback (most recent call last)",
      "\u001b[0;32m<ipython-input-4-0db9cb99929e>\u001b[0m in \u001b[0;36m<module>\u001b[0;34m\u001b[0m\n\u001b[1;32m     12\u001b[0m \u001b[0mSIM\u001b[0m \u001b[0;34m=\u001b[0m \u001b[0mluxeics\u001b[0m\u001b[0;34m.\u001b[0m\u001b[0mICSSimulation\u001b[0m\u001b[0;34m(\u001b[0m \u001b[0minput_filename\u001b[0m \u001b[0;34m)\u001b[0m\u001b[0;34m\u001b[0m\u001b[0;34m\u001b[0m\u001b[0m\n\u001b[1;32m     13\u001b[0m \u001b[0;34m\u001b[0m\u001b[0m\n\u001b[0;32m---> 14\u001b[0;31m \u001b[0mSIM\u001b[0m\u001b[0;34m.\u001b[0m\u001b[0mrun\u001b[0m\u001b[0;34m(\u001b[0m\u001b[0;34m)\u001b[0m\u001b[0;34m\u001b[0m\u001b[0;34m\u001b[0m\u001b[0m\n\u001b[0m\u001b[1;32m     15\u001b[0m \u001b[0;34m\u001b[0m\u001b[0m\n\u001b[1;32m     16\u001b[0m \u001b[0;34m\u001b[0m\u001b[0m\n",
      "\u001b[0;32m~/Physics/code_development/luxeics/luxeics/collisions.py\u001b[0m in \u001b[0;36mrun\u001b[0;34m(self)\u001b[0m\n\u001b[1;32m     60\u001b[0m             \u001b[0mself\u001b[0m\u001b[0;34m.\u001b[0m\u001b[0mMC_sampling_one_batch\u001b[0m\u001b[0;34m(\u001b[0m\u001b[0mj\u001b[0m\u001b[0;34m,\u001b[0m\u001b[0mn\u001b[0m\u001b[0;34m)\u001b[0m\u001b[0;34m\u001b[0m\u001b[0;34m\u001b[0m\u001b[0m\n\u001b[1;32m     61\u001b[0m \u001b[0;34m\u001b[0m\u001b[0m\n\u001b[0;32m---> 62\u001b[0;31m         \u001b[0mself\u001b[0m\u001b[0;34m.\u001b[0m\u001b[0msave_data\u001b[0m\u001b[0;34m(\u001b[0m\u001b[0;34m)\u001b[0m\u001b[0;34m\u001b[0m\u001b[0;34m\u001b[0m\u001b[0m\n\u001b[0m\u001b[1;32m     63\u001b[0m \u001b[0;34m\u001b[0m\u001b[0m\n\u001b[1;32m     64\u001b[0m         \u001b[0;32mreturn\u001b[0m \u001b[0;32mTrue\u001b[0m\u001b[0;34m\u001b[0m\u001b[0;34m\u001b[0m\u001b[0m\n",
      "\u001b[0;32m~/Physics/code_development/luxeics/luxeics/collisions.py\u001b[0m in \u001b[0;36msave_data\u001b[0;34m(self)\u001b[0m\n\u001b[1;32m    152\u001b[0m     \u001b[0;32mdef\u001b[0m \u001b[0msave_data\u001b[0m\u001b[0;34m(\u001b[0m\u001b[0mself\u001b[0m\u001b[0;34m)\u001b[0m\u001b[0;34m:\u001b[0m\u001b[0;34m\u001b[0m\u001b[0;34m\u001b[0m\u001b[0m\n\u001b[1;32m    153\u001b[0m \u001b[0;34m\u001b[0m\u001b[0m\n\u001b[0;32m--> 154\u001b[0;31m         \u001b[0;32mwith\u001b[0m \u001b[0mh5py\u001b[0m\u001b[0;34m.\u001b[0m\u001b[0mFile\u001b[0m\u001b[0;34m(\u001b[0m \u001b[0mfilename\u001b[0m\u001b[0;34m+\u001b[0m\u001b[0;34m'.h5'\u001b[0m \u001b[0;34m,\u001b[0m \u001b[0;34m'w'\u001b[0m \u001b[0;34m)\u001b[0m \u001b[0;32mas\u001b[0m \u001b[0mff\u001b[0m\u001b[0;34m:\u001b[0m\u001b[0;34m\u001b[0m\u001b[0;34m\u001b[0m\u001b[0m\n\u001b[0m\u001b[1;32m    155\u001b[0m \u001b[0;34m\u001b[0m\u001b[0m\n\u001b[1;32m    156\u001b[0m             \u001b[0;31m# build\u001b[0m\u001b[0;34m\u001b[0m\u001b[0;34m\u001b[0m\u001b[0;34m\u001b[0m\u001b[0m\n",
      "\u001b[0;31mNameError\u001b[0m: name 'filename' is not defined"
     ]
    }
   ],
   "source": [
    "\n",
    "# import matplotlib.pyplot as plt\n",
    "\n",
    "\n",
    "input_filename = 'pencil_beam'\n",
    "# input_filename = 'small_beam_full'\n",
    "\n",
    "with open( input_filename + '.yml', 'r' ) as stream:\n",
    "    input_dict = yaml.load(stream, Loader=yaml.SafeLoader)\n",
    "\n",
    "print (input_dict)\n",
    "\n",
    "SIM = luxeics.ICSSimulation( input_filename )\n",
    "\n",
    "SIM.run()\n",
    "\n",
    "\n",
    "print (dir(SIM))\n",
    "\n",
    "# luxeics.main_program( input_filename + '.yml' )\n"
   ]
  },
  {
   "cell_type": "code",
   "execution_count": null,
   "metadata": {
    "ExecuteTime": {
     "end_time": "2023-08-09T08:27:36.765874Z",
     "start_time": "2023-08-09T08:23:04.110Z"
    }
   },
   "outputs": [],
   "source": [
    "stop here!"
   ]
  },
  {
   "cell_type": "code",
   "execution_count": null,
   "metadata": {
    "ExecuteTime": {
     "end_time": "2023-08-09T08:27:36.767333Z",
     "start_time": "2023-08-09T08:23:04.111Z"
    }
   },
   "outputs": [],
   "source": [
    "# input_filename = 'small_beam_full'\n",
    "\n",
    "with h5py.File(input_filename + '.h5' ,'r') as ff:\n",
    "#     omega      = ff['final-state/spectrum/omega'][:]/1e9\n",
    "#     theta      = ff['final-state/spectrum/theta'][:]*1e6\n",
    "#     spectrum   = ff['final-state/spectrum/spectrum'][:]\n",
    "\n",
    "    K0,K1,K2,K3       = ff['final-state/photon/momentum'][:].T\n",
    "    X0,X1,X2,X3       = ff['final-state/photon/position'][:].T\n",
    "    W                 = ff['final-state/photon/weight'  ][:]\n",
    "    Stokes1,_,Stokes3 = ff['final-state/photon/Stokes'  ][:].T\n",
    "\n",
    "    P0,P1,P2,P3  = ff['final-state/electron/momentum'][:].T\n",
    "#     X0,X1,X2,X3  = ff['final-state/photon/position'][:].T\n",
    "#     We            = ff['final-state/photon/weight'  ][:]\n"
   ]
  },
  {
   "cell_type": "code",
   "execution_count": null,
   "metadata": {
    "ExecuteTime": {
     "end_time": "2023-08-04T13:11:11.569959Z",
     "start_time": "2023-08-04T13:11:11.322341Z"
    }
   },
   "outputs": [],
   "source": []
  },
  {
   "cell_type": "code",
   "execution_count": null,
   "metadata": {
    "ExecuteTime": {
     "end_time": "2023-08-09T08:27:36.768571Z",
     "start_time": "2023-08-09T08:23:04.113Z"
    }
   },
   "outputs": [],
   "source": [
    "with open( input_filename + '.yml', 'r' ) as stream:\n",
    "    input_dict = yaml.load(stream, Loader=yaml.SafeLoader)\n",
    "    \n",
    "    mode             = input_dict['control']['mode']\n",
    "    \n",
    "    \n",
    "    beam_charge      = float( input_dict['beam']['beam_charge'])\n",
    "    number_electrons = int( beam_charge / 1.60217653e-19)\n",
    "\n",
    "#     sampling         = input_dict['control']['sampling']\n",
    "    sampling = mode\n",
    "    \n",
    "    w0               = float(input_dict['laser']['w0'])\n"
   ]
  },
  {
   "cell_type": "code",
   "execution_count": null,
   "metadata": {
    "ExecuteTime": {
     "end_time": "2023-08-09T08:27:36.770099Z",
     "start_time": "2023-08-09T08:23:04.114Z"
    },
    "scrolled": true
   },
   "outputs": [],
   "source": [
    "print (f'beam charge                              : {beam_charge*1e12:.24} pC')\n",
    "print (f'number of beam electrons                 : {number_electrons:.4e}')\n",
    "print ('-'*42)\n",
    "print (f'{sampling} sampling:')\n",
    "print (f'max  single photon weight                : {amax(W):.4g}')\n",
    "print (f'mean single photon weight                : {mean(W):.4g}')\n",
    "print (f'total photon weight                      : {sum(W):.4g}')\n",
    "print (f'total photon weight per incident electron: {sum(W)/number_electrons:.4g}')\n",
    "print (f'total macro photon number                : {len(W)}')\n",
    "print ('-'*42)\n"
   ]
  },
  {
   "cell_type": "code",
   "execution_count": null,
   "metadata": {
    "ExecuteTime": {
     "end_time": "2023-08-09T08:27:36.772830Z",
     "start_time": "2023-08-09T08:23:04.115Z"
    }
   },
   "outputs": [],
   "source": [
    "# beam charge                              : 100.0 pC\n",
    "# number of beam electrons                 : 6.2415e+08\n",
    "# ------------------------------------------\n",
    "# mode: full\n",
    "# rejection sampling:\n",
    "# max  single photon weight                : 17.07\n",
    "# mean single photon weight                : 17.07\n",
    "# total photon weight                      : 2.459e+06\n",
    "# total photon weight per incident electron: 0.00394\n",
    "# total macro photon number                : 144065\n",
    "# ------------------------------------------\n",
    "# mode: simple\n",
    "# rejection sampling:\n",
    "# max  single photon weight                : 7.483\n",
    "# mean single photon weight                : 7.483\n",
    "# total photon weight                      : 2.475e+06\n",
    "# total photon weight per incident electron: 0.003965\n",
    "# total macro photon number                : 330724\n",
    "# ------------------------------------------"
   ]
  },
  {
   "cell_type": "code",
   "execution_count": null,
   "metadata": {
    "ExecuteTime": {
     "end_time": "2023-08-09T08:27:36.781630Z",
     "start_time": "2023-08-09T08:23:04.116Z"
    }
   },
   "outputs": [],
   "source": [
    "# figure(figsize=(10,6))\n",
    "# pcolormesh(omega.ravel(),theta.ravel(),spectrum.T,rasterized=True,cmap=cm.magma)\n",
    "# xlim(6,9)\n",
    "# ylim(0,15)\n",
    "# colorbar(label='spectrum')\n",
    "\n",
    "# xlabel(r'$\\omega$ (GeV)')\n",
    "# ylabel(r'$\\theta$ ($\\mu$rad)')\n",
    "\n",
    "# savefig('spectrum.pdf')"
   ]
  },
  {
   "cell_type": "code",
   "execution_count": null,
   "metadata": {
    "ExecuteTime": {
     "end_time": "2023-08-09T08:27:36.785511Z",
     "start_time": "2023-08-09T08:23:04.117Z"
    }
   },
   "outputs": [],
   "source": [
    "figure(figsize=(10,6))\n",
    "\n",
    "subplot(111,aspect=1)\n",
    "hist2d(K1/1e6,K2/1e6,bins=(51,51),weights=W*Stokes3,rasterized=True,cmap=cm.PiYG,vmin=-800,vmax=800);\n",
    "colorbar()\n",
    "\n",
    "xlabel(r'$k_x$ (MeV)')\n",
    "ylabel(r'$k_y$ (MeV)')\n",
    "\n",
    "\n",
    "savefig(f'photon_transverse_momentum_{input_filename}_{mode}.pdf')\n"
   ]
  },
  {
   "cell_type": "code",
   "execution_count": null,
   "metadata": {
    "ExecuteTime": {
     "end_time": "2023-08-09T08:27:36.789503Z",
     "start_time": "2023-08-09T08:23:04.118Z"
    }
   },
   "outputs": [],
   "source": [
    "figure(figsize=(10,6))\n",
    "\n",
    "subplot(111,aspect=1)\n",
    "hist2d(K1/1e6,K2/1e6,bins=(51,51),weights=W*Stokes1,rasterized=True,cmap=cm.PiYG,vmin=-800,vmax=800);\n",
    "colorbar()\n",
    "\n",
    "xlabel(r'$k_x$ (MeV)')\n",
    "ylabel(r'$k_y$ (MeV)')\n",
    "\n",
    "\n",
    "savefig(f'photon_transverse_momentum_{input_filename}_{mode}.pdf')\n"
   ]
  },
  {
   "cell_type": "code",
   "execution_count": null,
   "metadata": {
    "ExecuteTime": {
     "end_time": "2023-08-09T08:27:36.794029Z",
     "start_time": "2023-08-09T08:23:04.120Z"
    }
   },
   "outputs": [],
   "source": [
    "PolDegree = np.sqrt(Stokes1**2 + Stokes3**2 )\n",
    "\n",
    "n         = K1 < 0\n",
    "\n",
    "TiltAngle = 0.5*np.arctan2(Stokes1,Stokes3) -  n *pi\n",
    "\n",
    "\n",
    "phi =  arctan2(K2,K1)\n",
    "\n",
    "# figure(figsize=(10,6))\n",
    "\n",
    "# subplot(111,aspect=1)\n",
    "values_w_s, xedge, yedge = histogram2d(K1/1e6,K2/1e6,bins=(104,102),weights=W*PolDegree )\n",
    "values_w  , xedge, yedge = histogram2d(K1/1e6,K2/1e6,bins=(104,102),weights=W           )\n",
    "values_w_tilt, xedge, yedge = histogram2d(K1/1e6,K2/1e6,bins=(104,102),weights=W*TiltAngle )\n",
    "values_w_phi , xedge, yedge = histogram2d(K1/1e6,K2/1e6,bins=(104,102),weights=W*phi )\n",
    "\n",
    "# print (histogram2d(K1/1e6,K2/1e6,bins=(51,51),weights=W*PolDegree))\n",
    "\n",
    "fig,ax = subplots(1,2,figsize=(14,5))\n",
    "p=ax[0].pcolormesh( xedge, yedge, (values_w_s / values_w).T ,rasterized=True,cmap=cm.plasma);\n",
    "colorbar(p,ax=ax[0])\n",
    "\n",
    "\n",
    "tilt_angle_in_lab = (values_w_tilt + values_w_phi) / values_w\n",
    "\n",
    "renormalized_tilt_angle0  = nan_to_num(tilt_angle_in_lab )\n",
    "\n",
    "renormalized_tilt_angle = (( renormalized_tilt_angle0 + pi )%(2*pi) -pi)\n",
    "\n",
    "print (amax(renormalized_tilt_angle),amin(renormalized_tilt_angle))\n",
    "\n",
    "p=ax[1].pcolormesh( xedge, yedge, renormalized_tilt_angle.T ,rasterized=True,cmap=cm.PuOr, vmin=-0.2,vmax=0.2);\n",
    "colorbar(p,ax=ax[1])\n",
    "\n",
    "\n",
    "for axj in ax:\n",
    "    axj.set_aspect(1)\n",
    "    axj.set_xlabel(r'$k_x$ (MeV)')\n",
    "    axj.set_ylabel(r'$k_y$ (MeV)')\n",
    "\n",
    "ax[0].set_title(r'polarization degree')\n",
    "ax[1].set_title(r'polarization tilt angle (w.r.t. incident polarization)')\n",
    "\n",
    "savefig(f'polarization_state_{input_filename}_{mode}.pdf')\n"
   ]
  },
  {
   "cell_type": "code",
   "execution_count": null,
   "metadata": {
    "ExecuteTime": {
     "end_time": "2023-08-09T08:27:36.796407Z",
     "start_time": "2023-08-09T08:23:04.121Z"
    }
   },
   "outputs": [],
   "source": [
    "histogram2d?"
   ]
  },
  {
   "cell_type": "code",
   "execution_count": null,
   "metadata": {
    "ExecuteTime": {
     "end_time": "2023-08-09T08:27:36.799249Z",
     "start_time": "2023-08-09T08:23:04.122Z"
    }
   },
   "outputs": [],
   "source": [
    "figure(figsize=(10,6))\n",
    "\n",
    "subplot(111,aspect=1)\n",
    "hist2d(K1/1e6,K2/1e6,bins=(50,50),weights=W,rasterized=True,cmap=cm.magma);\n",
    "colorbar()\n",
    "title(f'{sampling} sampling')\n",
    "\n",
    "xlabel(r'$k_x$ (MeV)')\n",
    "ylabel(r'$k_y$ (MeV)')\n",
    "\n",
    "\n",
    "savefig(f'photon_transverse_momentum_{input_filename}_{mode}.pdf')"
   ]
  },
  {
   "cell_type": "code",
   "execution_count": null,
   "metadata": {
    "ExecuteTime": {
     "end_time": "2023-08-09T08:27:36.802296Z",
     "start_time": "2023-08-09T08:23:04.123Z"
    }
   },
   "outputs": [],
   "source": [
    "figure(figsize=(10,6))\n",
    "\n",
    "bbins=(linspace(-2*w0,2*w0,50),linspace(-2*w0,2*w0,50))\n",
    "\n",
    "subplot(111,aspect=1)\n",
    "hist2d(X1,X2,bins=bbins,weights=W,rasterized=True,cmap=cm.magma);\n",
    "colorbar()\n",
    "\n",
    "xlabel(r'$x@$source (micron)')\n",
    "ylabel(r'$y@$source (micron)')\n",
    "title(f'{sampling} sampling')\n",
    "\n",
    "xlim(-2*w0,2*w0)\n",
    "ylim(-2*w0,2*w0)\n",
    "\n",
    "\n",
    "savefig(f'photon_source_size_{input_filename}_{mode}.pdf')\n"
   ]
  },
  {
   "cell_type": "code",
   "execution_count": null,
   "metadata": {
    "ExecuteTime": {
     "end_time": "2023-08-09T08:27:36.804666Z",
     "start_time": "2023-08-09T08:23:04.123Z"
    }
   },
   "outputs": [],
   "source": [
    "figure(figsize=(10,6))\n",
    "bbins=(linspace(-75,75,50),linspace(-2*w0,2*w0,50))\n",
    "\n",
    "subplot(111)\n",
    "hist2d(X0-X3,X1,bins=bbins,weights=W ,rasterized=True,cmap=cm.magma);\n",
    "colorbar()\n",
    "\n",
    "xlabel(r'$t-z@$source (micron)')\n",
    "ylabel(r'$x@$source (micron)')\n",
    "title(f'{sampling} sampling')\n",
    "\n",
    "\n",
    "\n",
    "savefig(f'photon_source_length_{input_filename}_{mode}.pdf')\n"
   ]
  },
  {
   "cell_type": "code",
   "execution_count": null,
   "metadata": {
    "ExecuteTime": {
     "end_time": "2023-08-09T08:27:36.819959Z",
     "start_time": "2023-08-09T08:23:04.124Z"
    }
   },
   "outputs": [],
   "source": [
    "figure(figsize=(10,6))\n",
    "bbins=(50,50)\n",
    "\n",
    "subplot(111)\n",
    "hist2d(X0-X3,X0+X3,bins=bbins,weights=W ,rasterized=True,cmap=cm.magma);\n",
    "colorbar()\n",
    "\n",
    "xlabel(r'$t-z@$source (micron)')\n",
    "ylabel(r'$t+z@$source (micron)')\n",
    "title(f'{sampling} sampling')\n",
    "\n",
    "\n",
    "\n",
    "savefig(f'photon_source_lightfront_{input_filename}_{mode}.pdf')\n"
   ]
  },
  {
   "cell_type": "code",
   "execution_count": null,
   "metadata": {
    "ExecuteTime": {
     "end_time": "2023-08-09T08:27:36.822209Z",
     "start_time": "2023-08-09T08:23:04.125Z"
    }
   },
   "outputs": [],
   "source": [
    "figure(figsize=(10,6))\n",
    "\n",
    "bbins=(100,100)#(linspace(6,9,50),linspace(0,15,50))\n",
    "\n",
    "subplot(111)\n",
    "hist2d(K0/1e9,sqrt(K1**2+K2**2)/K3*1e6,bins=bbins,weights=W/sqrt(K1**2+K2**2),rasterized=True,cmap=cm.magma);\n",
    "colorbar()\n",
    "xlabel(r'$\\omega$ (GeV)')\n",
    "ylabel(r'$\\theta$ ($\\mu$rad)');\n",
    "title(rf'{sampling} sampling')\n",
    "\n",
    "\n",
    "savefig(f'photon_angular_spectrum_{input_filename}_{mode}.pdf')\n"
   ]
  },
  {
   "cell_type": "code",
   "execution_count": null,
   "metadata": {
    "ExecuteTime": {
     "end_time": "2023-08-09T08:27:36.824632Z",
     "start_time": "2023-08-09T08:23:04.126Z"
    }
   },
   "outputs": [],
   "source": [
    "# figure(figsize=(10,6))\n",
    "\n",
    "# bbins=(linspace(6,9,50),linspace(0,50,50))\n",
    "\n",
    "# subplot(111)\n",
    "# hist2d(K0/1e9,sqrt(X1**2+X2**2),bins=bbins,weights=W/sqrt(X1**2+X2**2),rasterized=True,cmap=cm.magma);\n",
    "# colorbar()\n",
    "# xlabel(r'$\\omega$ (GeV)')\n",
    "# ylabel(r'$\\theta$ ($\\mu$rad)');\n",
    "# title(rf'{sampling} sampling')\n",
    "\n",
    "\n",
    "# savefig(f'photon_transverse_spectrum_{input_filename}_{mode}.pdf')\n"
   ]
  },
  {
   "cell_type": "code",
   "execution_count": null,
   "metadata": {
    "ExecuteTime": {
     "end_time": "2023-08-09T08:27:36.826698Z",
     "start_time": "2023-08-09T08:23:04.127Z"
    }
   },
   "outputs": [],
   "source": [
    "thetax=K1/K3\n",
    "thetay=K2/K3\n",
    "\n",
    "baseline = 7.5e6 \n",
    "\n",
    "xoffset = thetax * baseline\n",
    "yoffset = thetay * baseline"
   ]
  },
  {
   "cell_type": "code",
   "execution_count": null,
   "metadata": {
    "ExecuteTime": {
     "end_time": "2023-08-09T08:27:36.833991Z",
     "start_time": "2023-08-09T08:23:04.128Z"
    }
   },
   "outputs": [],
   "source": [
    "spotsize = 10 # micron\n",
    "\n",
    "\n",
    "figure(figsize=(14,6))\n",
    "\n",
    "ax1=subplot(121,aspect=1)\n",
    "scatter(xoffset, yoffset, color='r',marker='.',lw=0,s=W);\n",
    "xlim(-2*spotsize,2*spotsize)\n",
    "ylim(-2*spotsize,2*spotsize)\n",
    "xlabel(r'$x$ (micron)')\n",
    "ylabel(r'$y$ (micron)');\n",
    "title('zero source size')\n",
    "\n",
    "\n",
    "ax2=subplot(122,aspect=1)\n",
    "\n",
    "# plot(X1+xoffset, X2+yoffset, color='m', marker=',',lw=0);\n",
    "scatter(X1+xoffset, X2+yoffset, color='m', marker='.',lw=0,s=W);\n",
    "\n",
    "xlim(-2*spotsize,2*spotsize)\n",
    "ylim(-2*spotsize,2*spotsize)\n",
    "\n",
    "xlabel(r'$x$ (micron)')\n",
    "ylabel(r'$y$ (micron)');\n",
    "title('finite source size')\n",
    "\n",
    "ax1.add_patch(Circle((0,0),spotsize,color='C0',fill=False))\n",
    "ax2.add_patch(Circle((0,0),spotsize,color='C0',fill=False))\n",
    "\n",
    "\n",
    "suptitle(f'{sampling} sampling')\n",
    "\n",
    "savefig(f'photons_at_focus_{input_filename}_{mode}.png',dpi=200)\n",
    "\n"
   ]
  },
  {
   "cell_type": "code",
   "execution_count": null,
   "metadata": {
    "ExecuteTime": {
     "end_time": "2023-08-09T08:27:36.836259Z",
     "start_time": "2023-08-09T08:23:04.129Z"
    }
   },
   "outputs": [],
   "source": [
    "selector1 = sqrt(xoffset**2+yoffset**2) < spotsize\n",
    "selector2 = sqrt((xoffset+X1)**2+(yoffset+X2)**2) < spotsize\n",
    "\n",
    "\n",
    "print ( f'IP-laser spot size: {spotsize:.2f} micron')\n",
    "print ( f'baseline          : {baseline/1e6:.2f} metres')\n",
    "print ('-'*42)\n",
    "\n",
    "print (f'photons in spot, {sampling} sampling:')\n",
    "print (f'macrophoton weight               : {amax(W):.4g}')\n",
    "print ( 'macrophotons, zero   source size :',sum( selector1 ) )\n",
    "print ( 'macrophotons, finite source size :',sum( selector2 ) )\n",
    "print ( 'photon weight, zero   source size:',sum(W[selector1 ] ) )\n",
    "print ( 'photon weight, finite source size:',sum(W[selector2 ] ) )\n"
   ]
  },
  {
   "cell_type": "markdown",
   "metadata": {},
   "source": [
    "### Photon Spectrum at IP"
   ]
  },
  {
   "cell_type": "code",
   "execution_count": null,
   "metadata": {
    "ExecuteTime": {
     "end_time": "2023-08-09T08:27:36.841051Z",
     "start_time": "2023-08-09T08:23:04.130Z"
    }
   },
   "outputs": [],
   "source": [
    "figure(figsize=(10,6))\n",
    "\n",
    "subplot(111)\n",
    "hist(K0[selector1]/1e9,bins=linspace(6,9,50),weights=W[selector1],alpha=1  ,fc='C0',label='no source size');\n",
    "hist(K0[selector2]/1e9,bins=linspace(6,9,50),weights=W[selector2],alpha=0.5,fc='C3',label='finite source size'); \n",
    "xlim(6,9)\n",
    "legend()\n",
    "xlabel('ICS photon energy (GeV)')\n",
    "ylabel('photon spectrum at IP')\n",
    "title(rf'{sampling} sampling')\n",
    "\n",
    "savefig(f'photon_spectrum_at_focus_{input_filename}_{mode}.pdf')\n"
   ]
  },
  {
   "cell_type": "markdown",
   "metadata": {},
   "source": [
    "### Photon Weight Distribution at IP"
   ]
  },
  {
   "cell_type": "code",
   "execution_count": null,
   "metadata": {
    "ExecuteTime": {
     "end_time": "2023-08-09T08:27:36.842959Z",
     "start_time": "2023-08-09T08:23:04.131Z"
    }
   },
   "outputs": [],
   "source": [
    "figure(figsize=(10,6))\n",
    "base_weight = amax(W)\n",
    "bbins = linspace(0,base_weight,50) \n",
    "\n",
    "hist( W[selector1],bins=bbins,label='zero source size'  ,fc='C0');\n",
    "hist( W[selector2],bins=bbins,label='finite source size',fc='C3',alpha=0.5);\n",
    "\n",
    "\n",
    "xlabel('macrophoton weigths')\n",
    "ylabel('#macrophotons with weight')\n",
    "title(rf'{sampling} sampling')\n",
    "legend()\n",
    "savefig(f'photon_weights_{input_filename}_{mode}.pdf')\n"
   ]
  },
  {
   "cell_type": "code",
   "execution_count": null,
   "metadata": {
    "ExecuteTime": {
     "end_time": "2023-08-09T08:27:36.845031Z",
     "start_time": "2023-08-09T08:23:04.132Z"
    }
   },
   "outputs": [],
   "source": [
    "figure(figsize=(10,6))\n",
    "base_weight = amax(W)\n",
    "bbins = linspace(0,base_weight,50) \n",
    "\n",
    "hist( W[selector1],bins=bbins,weights=W[selector1],label='zero source size'  ,fc='C0',alpha=1.0);\n",
    "hist( W[selector2],bins=bbins,weights=W[selector2],label='finite source size',fc='C3',alpha=0.5);\n",
    "\n",
    "xlabel('macrophoton weigths')\n",
    "ylabel('#macrophotons with weight')\n",
    "title(rf'{sampling} sampling')\n",
    "legend()\n",
    "savefig(f'photon_weights2_{input_filename}_{mode}.pdf')\n"
   ]
  },
  {
   "cell_type": "markdown",
   "metadata": {},
   "source": [
    "### Electrons"
   ]
  },
  {
   "cell_type": "code",
   "execution_count": null,
   "metadata": {
    "ExecuteTime": {
     "end_time": "2023-08-09T08:27:36.851991Z",
     "start_time": "2023-08-09T08:23:04.133Z"
    }
   },
   "outputs": [],
   "source": [
    "fig,ax=subplots(1,3,figsize=(20,6))\n",
    "bbins=(50,50)\n",
    "\n",
    "p0=ax[0].hist2d(P3/1e9,P1/1e6,bins=bbins,weights=W,rasterized=True,cmap=cm.magma);\n",
    "# colorbar(p0,ax=ax[0])\n",
    "\n",
    "p1=ax[1].hist2d(P3/1e9,P2/1e6,bins=bbins,weights=W,rasterized=True,cmap=cm.magma);\n",
    "# colorbar(p1,ax=ax[1])\n",
    "\n",
    "p2=ax[2].hist2d(P1/1e6,P2/1e6,bins=bbins,weights=W,rasterized=True,cmap=cm.magma);\n",
    "# colorbar(p2,ax=ax[2])\n",
    "\n",
    "\n",
    "ax[0].set_xlabel(r'electron $p_z$ (GeV)')\n",
    "ax[1].set_xlabel(r'electron $p_z$ (GeV)')\n",
    "ax[2].set_xlabel(r'electron $p_x$ (MeV)')\n",
    "\n",
    "ax[0].set_ylabel(r'electron $p_x$ (MeV)')\n",
    "ax[1].set_ylabel(r'electron $p_y$ (MeV)')\n",
    "ax[2].set_ylabel(r'electron $p_y$ (MeV)')\n"
   ]
  },
  {
   "cell_type": "code",
   "execution_count": null,
   "metadata": {
    "ExecuteTime": {
     "end_time": "2023-08-09T08:27:36.854893Z",
     "start_time": "2023-08-09T08:23:04.134Z"
    }
   },
   "outputs": [],
   "source": [
    "theta_ex = P1/P3\n",
    "theta_ey = P2/P3\n",
    "theta_e  = sqrt(theta_ex**2+theta_ey**2)\n",
    "\n",
    "bbins=(linspace(7.5,11.5,50),linspace(0,50,50))\n",
    "\n",
    "fig,ax=subplots(1,1,figsize=(10,6))\n",
    "\n",
    "hist2d( P0/1e9 , theta_e*1e6 , bins=bbins , weights=W/theta_e );\n",
    "\n",
    "xlabel(r'electron energy $E$ (GeV)')\n",
    "ylabel(r'electron angle $\\theta$ ($\\mu$rad)');"
   ]
  },
  {
   "cell_type": "code",
   "execution_count": null,
   "metadata": {
    "ExecuteTime": {
     "end_time": "2023-08-09T08:27:36.857541Z",
     "start_time": "2023-08-09T08:23:04.135Z"
    }
   },
   "outputs": [],
   "source": [
    "fig,ax=subplots(1,1,figsize=(10,6))\n",
    "bbins=(50,50)\n",
    "\n",
    "p0=ax.hist(P3/1e9,bins=70,weights=W);\n",
    "p0=ax.hist(P0/1e9,bins=70,weights=W,alpha=0.5);\n",
    "xlabel(r'electron energy $E$ (GeV)')"
   ]
  },
  {
   "cell_type": "code",
   "execution_count": null,
   "metadata": {
    "ExecuteTime": {
     "end_time": "2023-08-09T08:27:36.860132Z",
     "start_time": "2023-08-09T08:23:04.135Z"
    }
   },
   "outputs": [],
   "source": [
    "theta_ex = P1/P3\n",
    "theta_ey = P2/P3\n",
    "theta_e  = sqrt(theta_ex**2+theta_ey**2)\n",
    "\n",
    "bbins=(linspace(16.4,16.6,50),linspace(-0.5,0.5,50))\n",
    "\n",
    "fig,ax=subplots(1,1,figsize=(10,6))\n",
    "\n",
    "hist2d( (P3+K3)/1e9 , (P1+K1)/1e6 , bins=bbins );\n",
    "xlabel(r'initial electron beam $p_z$')\n",
    "ylabel(r'initial electron beam $p_x$')\n",
    "\n",
    "\n"
   ]
  },
  {
   "cell_type": "code",
   "execution_count": null,
   "metadata": {
    "ExecuteTime": {
     "end_time": "2023-08-09T08:27:36.864570Z",
     "start_time": "2023-08-09T08:23:04.136Z"
    }
   },
   "outputs": [],
   "source": [
    "theta_x = K1/K3\n",
    "theta_y = K2/K3\n",
    "theta_e  = sqrt(theta_ex**2+theta_ey**2)\n",
    "\n",
    "bbins=(100,100)#(linspace(16.4,16.6,50),linspace(-0.5,0.5,50))\n",
    "\n",
    "fig,ax=subplots(1,1,figsize=(10,6))\n",
    "\n",
    "hist2d( theta_x , theta_y , bins=bbins );\n",
    "\n"
   ]
  },
  {
   "cell_type": "code",
   "execution_count": null,
   "metadata": {
    "ExecuteTime": {
     "end_time": "2023-08-09T08:27:36.866881Z",
     "start_time": "2023-08-09T08:23:04.138Z"
    }
   },
   "outputs": [],
   "source": [
    "omega0 = 4.1\n",
    "gamma0 = 32289.62818003914\n",
    "\n",
    "omega = 2*gamma0*omega0\n",
    "elec_mass = 511000.\n",
    "\n",
    "\n",
    "omega1 = omega/(1+2*omega/elec_mass)"
   ]
  },
  {
   "cell_type": "code",
   "execution_count": null,
   "metadata": {
    "ExecuteTime": {
     "end_time": "2023-08-09T08:27:36.870199Z",
     "start_time": "2023-08-09T08:23:04.139Z"
    }
   },
   "outputs": [],
   "source": [
    "2*pi"
   ]
  },
  {
   "cell_type": "markdown",
   "metadata": {},
   "source": [
    "## "
   ]
  }
 ],
 "metadata": {
  "hide_input": false,
  "kernelspec": {
   "display_name": "Python 3",
   "language": "python",
   "name": "python3"
  },
  "language_info": {
   "codemirror_mode": {
    "name": "ipython",
    "version": 3
   },
   "file_extension": ".py",
   "mimetype": "text/x-python",
   "name": "python",
   "nbconvert_exporter": "python",
   "pygments_lexer": "ipython3",
   "version": "3.7.6"
  }
 },
 "nbformat": 4,
 "nbformat_minor": 4
}
