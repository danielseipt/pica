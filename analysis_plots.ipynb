{
 "cells": [
  {
   "cell_type": "code",
   "execution_count": 1,
   "metadata": {
    "ExecuteTime": {
     "end_time": "2023-08-16T09:41:18.611733Z",
     "start_time": "2023-08-16T09:41:17.036875Z"
    }
   },
   "outputs": [
    {
     "name": "stdout",
     "output_type": "stream",
     "text": [
      "%pylab is deprecated, use %matplotlib inline and import the required libraries.\n",
      "Populating the interactive namespace from numpy and matplotlib\n"
     ]
    }
   ],
   "source": [
    "%pylab inline"
   ]
  },
  {
   "cell_type": "code",
   "execution_count": 2,
   "metadata": {
    "ExecuteTime": {
     "end_time": "2023-08-16T09:41:19.118644Z",
     "start_time": "2023-08-16T09:41:18.614311Z"
    }
   },
   "outputs": [],
   "source": [
    "import yaml\n",
    "import h5py\n",
    "import numpy as np\n",
    "\n",
    "import luxeics"
   ]
  },
  {
   "cell_type": "code",
   "execution_count": null,
   "metadata": {
    "ExecuteTime": {
     "end_time": "2023-08-14T14:49:28.344413Z",
     "start_time": "2023-08-14T14:49:28.199827Z"
    }
   },
   "outputs": [],
   "source": []
  },
  {
   "cell_type": "code",
   "execution_count": 3,
   "metadata": {
    "ExecuteTime": {
     "end_time": "2023-08-16T09:41:19.132016Z",
     "start_time": "2023-08-16T09:41:19.121103Z"
    },
    "scrolled": false
   },
   "outputs": [
    {
     "name": "stdout",
     "output_type": "stream",
     "text": [
      "{'control': {'sampling': 'rejection', 'xsection': 'Full', 'beam': {'sample_electrons': '1e8', 'sample_batch_size': '1e7'}, 'laser': {'sigma_rescale': True, 'sigma_crit': 500.0}, 'detector': {'a0_freq_correction': False}}, 'beam': {'gamma': 32289.62818003914, 'energyspread': '1e-3', 'emittanceX': 0.0, 'emittanceY': 0.0, 'sigmaX': 2.0, 'sigmaY': 2.0, 'sigmaL': 20.0, 'beam_charge': '100e-12', 'beam_focus_z': 0, 'baseline': '7.5e6'}, 'laser': {'a0': 0.1, 'omega0': 4.1, 'Tpulse': 100.0, 'pulse': 'cos2', 'w0': 25.0, 'polangle': 0.0, 'poldegree': 1.0}, 'detector': {'pdim': 3, 'omega': ['5.0e9', '9.2e9'], 'theta': [0, '15e-6'], 'phi': [0.0, 6.283185307179586]}}\n"
     ]
    }
   ],
   "source": [
    "input_filename = 'pencil_beam'\n",
    "# input_filename = 'small_beam'\n",
    "# input_filename = 'large_beam'\n",
    "# input_filename = 'weird_beam'\n",
    "\n",
    "with open( input_filename + '.yml', 'r' ) as stream:\n",
    "    input_dict = yaml.load(stream, Loader=yaml.SafeLoader)\n",
    "\n",
    "print (input_dict)"
   ]
  },
  {
   "cell_type": "code",
   "execution_count": 17,
   "metadata": {
    "ExecuteTime": {
     "end_time": "2023-08-16T09:41:32.529394Z",
     "start_time": "2023-08-16T09:41:32.460203Z"
    },
    "scrolled": false
   },
   "outputs": [
    {
     "name": "stdout",
     "output_type": "stream",
     "text": [
      " >> rescale pulse duration: 855.50 -> 500.00: sigma_rescalefactor = 1.71\n",
      "['Compton_Spectrum', 'K_photon', 'MC_sampling_one_batch', 'P_electron', 'Stokes_photon', 'Tpulse', 'W_electron', 'W_photon', 'X_electron', 'X_photon', '__class__', '__delattr__', '__dict__', '__dir__', '__doc__', '__eq__', '__format__', '__ge__', '__getattribute__', '__gt__', '__hash__', '__init__', '__init_subclass__', '__le__', '__lt__', '__module__', '__ne__', '__new__', '__reduce__', '__reduce_ex__', '__repr__', '__setattr__', '__sizeof__', '__str__', '__subclasshook__', '__weakref__', 'a0', 'a0_freq_correction', 'beam_charge', 'beam_focus_z', 'beam_length', 'beam_size_X', 'beam_size_Y', 'define_batches', 'define_detector', 'emittance_X', 'emittance_Y', 'energyspread', 'filename', 'gamma0', 'generate_electron_beam', 'input_dict', 'omega0', 'polangle', 'poldegree', 'pulse', 'read', 'read_beam_parameters', 'read_laser_parameters', 'run', 'sigma', 'sigma_crit', 'sigma_rescale', 'sigma_rescalefactor', 'total_energy', 'total_energy_J', 'w0', 'write_build', 'write_file', 'xi_peak', 'xsection']\n"
     ]
    }
   ],
   "source": [
    "SIM = luxeics.ICSSimulation( input_filename )\n",
    "# SIM.run()\n",
    "SIM.read()\n",
    "\n",
    "print (dir(SIM))"
   ]
  },
  {
   "cell_type": "code",
   "execution_count": 20,
   "metadata": {
    "ExecuteTime": {
     "end_time": "2023-08-16T11:07:49.689095Z",
     "start_time": "2023-08-16T11:07:49.671471Z"
    }
   },
   "outputs": [],
   "source": [
    "SIM.K_photon.shape\n",
    "\n",
    "K0,K1,K2,K3       = SIM.K_photon\n",
    "X0,X1,X2,X3       = SIM.X_photon\n",
    "W                 = SIM.W_photon\n",
    "Stokes1,_,Stokes3 = SIM.Stokes_photon\n",
    "\n",
    "P0,P1,P2,P3       = SIM.P_electron"
   ]
  },
  {
   "cell_type": "code",
   "execution_count": 6,
   "metadata": {
    "ExecuteTime": {
     "end_time": "2023-08-16T09:41:19.221273Z",
     "start_time": "2023-08-16T09:41:19.174405Z"
    }
   },
   "outputs": [],
   "source": [
    "# # input_filename = 'small_beam_full'\n",
    "\n",
    "# with h5py.File(input_filename + '.h5' ,'r') as ff:\n",
    "# #     omega      = ff['final-state/spectrum/omega'][:]/1e9\n",
    "# #     theta      = ff['final-state/spectrum/theta'][:]*1e6\n",
    "# #     spectrum   = ff['final-state/spectrum/spectrum'][:]\n",
    "\n",
    "#     K0,K1,K2,K3       = ff['final-state/photon/momentum'][:]\n",
    "#     X0,X1,X2,X3       = ff['final-state/photon/position'][:]\n",
    "#     W                 = ff['final-state/photon/weight'  ][:]\n",
    "#     Stokes1,_,Stokes3 = ff['final-state/photon/Stokes'  ][:]\n",
    "\n",
    "#     P0,P1,P2,P3  = ff['final-state/electron/momentum'][:]\n",
    "# #     X0,X1,X2,X3  = ff['final-state/photon/position'][:].T\n",
    "# #     We            = ff['final-state/photon/weight'  ][:]\n"
   ]
  },
  {
   "cell_type": "code",
   "execution_count": null,
   "metadata": {
    "ExecuteTime": {
     "end_time": "2023-08-04T13:11:11.569959Z",
     "start_time": "2023-08-04T13:11:11.322341Z"
    }
   },
   "outputs": [],
   "source": []
  },
  {
   "cell_type": "code",
   "execution_count": 21,
   "metadata": {
    "ExecuteTime": {
     "end_time": "2023-08-16T11:08:08.339388Z",
     "start_time": "2023-08-16T11:08:08.320628Z"
    }
   },
   "outputs": [],
   "source": [
    "with open( input_filename + '.yml', 'r' ) as stream:\n",
    "    input_dict = yaml.load(stream, Loader=yaml.SafeLoader)\n",
    "    \n",
    "#     mode             = input_dict['control']['mode']\n",
    "    \n",
    "    \n",
    "    beam_charge      = float( input_dict['beam']['beam_charge'])\n",
    "    number_electrons = int( beam_charge / 1.60217653e-19)\n",
    "\n",
    "    sampling         = input_dict['control']['sampling']\n",
    "#     sampling = mode\n",
    "    \n",
    "    w0               = float(input_dict['laser']['w0'])\n"
   ]
  },
  {
   "cell_type": "code",
   "execution_count": 22,
   "metadata": {
    "ExecuteTime": {
     "end_time": "2023-08-16T11:08:10.559857Z",
     "start_time": "2023-08-16T11:08:10.549337Z"
    },
    "scrolled": true
   },
   "outputs": [
    {
     "name": "stdout",
     "output_type": "stream",
     "text": [
      "beam charge                              : 100.0 pC\n",
      "number of beam electrons                 : 6.2415e+08\n",
      "------------------------------------------\n",
      "rejection sampling:\n",
      "max  single photon weight                : 3.443\n",
      "mean single photon weight                : 3.418\n",
      "total photon weight                      : 1.527e+06\n",
      "total photon weight per incident electron: 0.002446\n",
      "total macro photon number                : 446626\n",
      "------------------------------------------\n"
     ]
    }
   ],
   "source": [
    "print (f'beam charge                              : {beam_charge*1e12:.24} pC')\n",
    "print (f'number of beam electrons                 : {number_electrons:.4e}')\n",
    "print ('-'*42)\n",
    "print (f'{sampling} sampling:')\n",
    "print (f'max  single photon weight                : {amax(W):.4g}')\n",
    "print (f'mean single photon weight                : {mean(W):.4g}')\n",
    "print (f'total photon weight                      : {sum(W):.4g}')\n",
    "print (f'total photon weight per incident electron: {sum(W)/number_electrons:.4g}')\n",
    "print (f'total macro photon number                : {len(W)}')\n",
    "print ('-'*42)\n"
   ]
  },
  {
   "cell_type": "code",
   "execution_count": 9,
   "metadata": {
    "ExecuteTime": {
     "end_time": "2023-08-16T09:41:19.251401Z",
     "start_time": "2023-08-16T09:41:19.245529Z"
    }
   },
   "outputs": [],
   "source": [
    "# beam charge                              : 100.0 pC\n",
    "# number of beam electrons                 : 6.2415e+08\n",
    "# ------------------------------------------\n",
    "# mode: full\n",
    "# rejection sampling:\n",
    "# max  single photon weight                : 17.07\n",
    "# mean single photon weight                : 17.07\n",
    "# total photon weight                      : 2.459e+06\n",
    "# total photon weight per incident electron: 0.00394\n",
    "# total macro photon number                : 144065\n",
    "# ------------------------------------------\n",
    "# mode: simple\n",
    "# rejection sampling:\n",
    "# max  single photon weight                : 7.483\n",
    "# mean single photon weight                : 7.483\n",
    "# total photon weight                      : 2.475e+06\n",
    "# total photon weight per incident electron: 0.003965\n",
    "# total macro photon number                : 330724\n",
    "# ------------------------------------------"
   ]
  },
  {
   "cell_type": "code",
   "execution_count": 10,
   "metadata": {
    "ExecuteTime": {
     "end_time": "2023-08-16T09:41:19.259861Z",
     "start_time": "2023-08-16T09:41:19.257056Z"
    }
   },
   "outputs": [],
   "source": [
    "# figure(figsize=(10,6))\n",
    "# pcolormesh(omega.ravel(),theta.ravel(),spectrum.T,rasterized=True,cmap=cm.magma)\n",
    "# xlim(6,9)\n",
    "# ylim(0,15)\n",
    "# colorbar(label='spectrum')\n",
    "\n",
    "# xlabel(r'$\\omega$ (GeV)')\n",
    "# ylabel(r'$\\theta$ ($\\mu$rad)')\n",
    "\n",
    "# savefig('spectrum.pdf')"
   ]
  },
  {
   "cell_type": "code",
   "execution_count": 23,
   "metadata": {
    "ExecuteTime": {
     "end_time": "2023-08-16T11:08:46.023649Z",
     "start_time": "2023-08-16T11:08:45.547039Z"
    }
   },
   "outputs": [
    {
     "data": {
      "image/png": "[encoded data removed]",
      "text/plain": [
       "<Figure size 720x432 with 2 Axes>"
      ]
     },
     "metadata": {
      "needs_background": "light"
     },
     "output_type": "display_data"
    }
   ],
   "source": [
    "figure(figsize=(10,6))\n",
    "\n",
    "subplot(111,aspect=1)\n",
    "hist2d(K1/1e6,K2/1e6,bins=(51,51),weights=W*Stokes3,rasterized=True,cmap=cm.PiYG);\n",
    "colorbar()\n",
    "\n",
    "xlabel(r'$k_x$ (MeV)')\n",
    "ylabel(r'$k_y$ (MeV)')\n",
    "\n",
    "\n",
    "savefig(f'photon_transverse_momentum_Stokes3_{input_filename}.pdf')\n"
   ]
  },
  {
   "cell_type": "code",
   "execution_count": 12,
   "metadata": {
    "ExecuteTime": {
     "end_time": "2023-08-16T09:41:20.494968Z",
     "start_time": "2023-08-16T09:41:20.060805Z"
    }
   },
   "outputs": [
    {
     "data": {
      "image/png": "[encoded data removed]",
      "text/plain": [
       "<Figure size 720x432 with 2 Axes>"
      ]
     },
     "metadata": {
      "needs_background": "light"
     },
     "output_type": "display_data"
    }
   ],
   "source": [
    "figure(figsize=(10,6))\n",
    "\n",
    "subplot(111,aspect=1)\n",
    "hist2d(K1/1e6,K2/1e6,bins=(51,51),weights=W*Stokes1,rasterized=True,cmap=cm.PiYG);\n",
    "colorbar()\n",
    "\n",
    "xlabel(r'$k_x$ (MeV)')\n",
    "ylabel(r'$k_y$ (MeV)')\n",
    "\n",
    "\n",
    "savefig(f'photon_transverse_momentum_Stokes1_{input_filename}.pdf')\n"
   ]
  },
  {
   "cell_type": "code",
   "execution_count": 13,
   "metadata": {
    "ExecuteTime": {
     "end_time": "2023-08-16T09:41:21.362643Z",
     "start_time": "2023-08-16T09:41:20.496661Z"
    }
   },
   "outputs": [
    {
     "data": {
      "image/png": "[encoded data removed]",
      "text/plain": [
       "<Figure size 1008x432 with 4 Axes>"
      ]
     },
     "metadata": {
      "needs_background": "light"
     },
     "output_type": "display_data"
    }
   ],
   "source": [
    "phi =  arctan2(K2,K1)\n",
    "\n",
    "# rotated Stokes parameters\n",
    "Stokes_rot3 = cos(2*phi) * Stokes3 - sin(2*phi) * Stokes1\n",
    "Stokes_rot1 = sin(2*phi) * Stokes3 + cos(2*phi) * Stokes1\n",
    "\n",
    "\n",
    "fig, ax = subplots(ncols=2,nrows=1,figsize=(14,6))\n",
    "\n",
    "for axj in ax:\n",
    "    axj.set_aspect(1)\n",
    "    \n",
    "H1=histogram2d(K1/1e6,K2/1e6,bins=(51,52),weights=W*Stokes_rot1);\n",
    "p=ax[0].pcolormesh(H1[1],H1[2],H1[0].T,rasterized=True,cmap=cm.RdBu)\n",
    "plt.colorbar(p,ax=ax[0])\n",
    "ax[0].set_title('rotated S1 in lab frame')\n",
    "\n",
    "H2=histogram2d(K1/1e6,K2/1e6,bins=(51,52),weights=W*Stokes_rot3);\n",
    "p=ax[1].pcolormesh(H2[1],H2[2],H2[0].T,rasterized=True,cmap=cm.RdBu, vmin=-700,vmax=700)\n",
    "plt.colorbar(p,ax=ax[1])\n",
    "ax[1].set_title('rotated S3 in lab frame')\n",
    "\n",
    "savefig('StokesParameters_rotated_labframe_{input_filename}.pdf')"
   ]
  },
  {
   "cell_type": "code",
   "execution_count": 14,
   "metadata": {
    "ExecuteTime": {
     "end_time": "2023-08-16T09:41:22.433258Z",
     "start_time": "2023-08-16T09:41:21.364904Z"
    }
   },
   "outputs": [
    {
     "name": "stderr",
     "output_type": "stream",
     "text": [
      "/var/folders/p4/q502wkw90lj8whkk9k5knh6c0000gn/T/ipykernel_88697/3633346578.py:23: RuntimeWarning: invalid value encountered in divide\n",
      "  p=ax[0].pcolormesh( xedge, yedge, (values_w_s / values_w).T ,rasterized=True,cmap=cm.plasma);\n",
      "/var/folders/p4/q502wkw90lj8whkk9k5knh6c0000gn/T/ipykernel_88697/3633346578.py:27: RuntimeWarning: invalid value encountered in divide\n",
      "  tilt_angle_in_lab_rot = values_w_tilt / values_w\n",
      "/var/folders/p4/q502wkw90lj8whkk9k5knh6c0000gn/T/ipykernel_88697/3633346578.py:29: RuntimeWarning: invalid value encountered in divide\n",
      "  tilt_angle_in_lab = (values_w_tilt + values_w_phi) / values_w\n"
     ]
    },
    {
     "name": "stdout",
     "output_type": "stream",
     "text": [
      "3.116926242091269 -3.1326724896614078\n"
     ]
    },
    {
     "data": {
      "image/png": "[encoded data removed]",
      "text/plain": [
       "<Figure size 1008x360 with 4 Axes>"
      ]
     },
     "metadata": {
      "needs_background": "light"
     },
     "output_type": "display_data"
    }
   ],
   "source": [
    "PolDegree = np.sqrt(Stokes1**2 + Stokes3**2 )\n",
    "\n",
    "n         = K1 < 0\n",
    "\n",
    "TiltAngle     = 0.5*np.arctan2(Stokes1,Stokes3) -  n *pi\n",
    "TiltAngle_rot = 0.5*np.arctan2(Stokes_rot1,Stokes_rot3) #-  n *pi\n",
    "\n",
    "phi =  arctan2(K2,K1)\n",
    "\n",
    "# figure(figsize=(10,6))\n",
    "\n",
    "bbins = (54,52)\n",
    "\n",
    "# subplot(111,aspect=1)\n",
    "values_w_s, xedge, yedge = histogram2d(K1/1e6,K2/1e6,bins=bbins,weights=W*PolDegree )\n",
    "values_w  , xedge, yedge = histogram2d(K1/1e6,K2/1e6,bins=bbins,weights=W           )\n",
    "values_w_tilt, xedge, yedge = histogram2d(K1/1e6,K2/1e6,bins=bbins,weights=W*TiltAngle_rot )\n",
    "values_w_phi , xedge, yedge = histogram2d(K1/1e6,K2/1e6,bins=bbins,weights=W*phi )\n",
    "\n",
    "# print (histogram2d(K1/1e6,K2/1e6,bins=(51,51),weights=W*PolDegree))\n",
    "\n",
    "fig,ax = subplots(1,2,figsize=(14,5))\n",
    "p=ax[0].pcolormesh( xedge, yedge, (values_w_s / values_w).T ,rasterized=True,cmap=cm.plasma);\n",
    "colorbar(p,ax=ax[0])\n",
    "\n",
    "\n",
    "tilt_angle_in_lab_rot = values_w_tilt / values_w\n",
    "\n",
    "tilt_angle_in_lab = (values_w_tilt + values_w_phi) / values_w\n",
    "\n",
    "renormalized_tilt_angle0  = nan_to_num(tilt_angle_in_lab )\n",
    "\n",
    "renormalized_tilt_angle = (( renormalized_tilt_angle0 + pi )%(2*pi) -pi)\n",
    "\n",
    "print (amax(renormalized_tilt_angle),amin(renormalized_tilt_angle))\n",
    "\n",
    "# p=ax[1].pcolormesh( xedge, yedge, tilt_angle_in_lab_rot.T ,rasterized=True,cmap=cm.PuOr, vmin=-0.2,vmax=0.2);\n",
    "p=ax[1].pcolormesh( xedge, yedge, 1000*tilt_angle_in_lab_rot.T ,rasterized=True,cmap=cm.PuOr, vmin=-150,vmax=150);\n",
    "colorbar(p,ax=ax[1], label='tilt angle (mrad)')\n",
    "\n",
    "\n",
    "for axj in ax:\n",
    "    axj.set_aspect(1)\n",
    "    axj.set_xlabel(r'$k_x$ (MeV)')\n",
    "    axj.set_ylabel(r'$k_y$ (MeV)')\n",
    "\n",
    "ax[0].set_title(r'polarization degree')\n",
    "ax[1].set_title(r'polarization tilt angle (w.r.t. incident polarization)')\n",
    "\n",
    "savefig(f'polarization_state_{input_filename}.pdf')\n"
   ]
  },
  {
   "cell_type": "code",
   "execution_count": 15,
   "metadata": {
    "ExecuteTime": {
     "end_time": "2023-08-16T09:41:22.903428Z",
     "start_time": "2023-08-16T09:41:22.435298Z"
    }
   },
   "outputs": [
    {
     "data": {
      "image/png": "[encoded data removed]",
      "text/plain": [
       "<Figure size 720x432 with 2 Axes>"
      ]
     },
     "metadata": {
      "needs_background": "light"
     },
     "output_type": "display_data"
    }
   ],
   "source": [
    "figure(figsize=(10,6))\n",
    "\n",
    "subplot(111,aspect=1)\n",
    "hist2d(K1/1e6,K2/1e6,bins=(50,50),weights=W,rasterized=True,cmap=cm.magma);\n",
    "colorbar()\n",
    "title(f'{sampling} sampling')\n",
    "\n",
    "xlabel(r'$k_x$ (MeV)')\n",
    "ylabel(r'$k_y$ (MeV)')\n",
    "\n",
    "\n",
    "savefig(f'photon_transverse_momentum_{input_filename}.pdf')"
   ]
  },
  {
   "cell_type": "code",
   "execution_count": 16,
   "metadata": {
    "ExecuteTime": {
     "end_time": "2023-08-16T09:41:26.264251Z",
     "start_time": "2023-08-16T09:41:22.905091Z"
    }
   },
   "outputs": [
    {
     "ename": "KeyboardInterrupt",
     "evalue": "",
     "output_type": "error",
     "traceback": [
      "\u001b[0;31m---------------------------------------------------------------------------\u001b[0m",
      "\u001b[0;31mKeyboardInterrupt\u001b[0m                         Traceback (most recent call last)",
      "Input \u001b[0;32mIn [16]\u001b[0m, in \u001b[0;36m<cell line: 5>\u001b[0;34m()\u001b[0m\n\u001b[1;32m      3\u001b[0m subplot(\u001b[38;5;241m111\u001b[39m,aspect\u001b[38;5;241m=\u001b[39m\u001b[38;5;241m1\u001b[39m)\n\u001b[1;32m      4\u001b[0m hist2d(K1\u001b[38;5;241m/\u001b[39mK3\u001b[38;5;241m*\u001b[39m\u001b[38;5;241m1e6\u001b[39m,K2\u001b[38;5;241m/\u001b[39mK3\u001b[38;5;241m*\u001b[39m\u001b[38;5;241m1e6\u001b[39m,bins\u001b[38;5;241m=\u001b[39m(\u001b[38;5;241m50\u001b[39m,\u001b[38;5;241m50\u001b[39m),weights\u001b[38;5;241m=\u001b[39mW,rasterized\u001b[38;5;241m=\u001b[39m\u001b[38;5;28;01mTrue\u001b[39;00m,cmap\u001b[38;5;241m=\u001b[39mcm\u001b[38;5;241m.\u001b[39mmagma);\n\u001b[0;32m----> 5\u001b[0m \u001b[43mcolorbar\u001b[49m\u001b[43m(\u001b[49m\u001b[43m)\u001b[49m\n\u001b[1;32m      6\u001b[0m title(\u001b[38;5;124mf\u001b[39m\u001b[38;5;124m'\u001b[39m\u001b[38;5;132;01m{\u001b[39;00msampling\u001b[38;5;132;01m}\u001b[39;00m\u001b[38;5;124m sampling\u001b[39m\u001b[38;5;124m'\u001b[39m)\n\u001b[1;32m      8\u001b[0m xlabel(\u001b[38;5;124mr\u001b[39m\u001b[38;5;124m'\u001b[39m\u001b[38;5;124m$\u001b[39m\u001b[38;5;124m\\\u001b[39m\u001b[38;5;124mtheta_x$ (urad)\u001b[39m\u001b[38;5;124m'\u001b[39m)\n",
      "File \u001b[0;32m/opt/anaconda3/envs/luxeics/lib/python3.10/site-packages/matplotlib/pyplot.py:2137\u001b[0m, in \u001b[0;36mcolorbar\u001b[0;34m(mappable, cax, ax, **kwargs)\u001b[0m\n\u001b[1;32m   2132\u001b[0m     \u001b[38;5;28;01mif\u001b[39;00m mappable \u001b[38;5;129;01mis\u001b[39;00m \u001b[38;5;28;01mNone\u001b[39;00m:\n\u001b[1;32m   2133\u001b[0m         \u001b[38;5;28;01mraise\u001b[39;00m \u001b[38;5;167;01mRuntimeError\u001b[39;00m(\u001b[38;5;124m'\u001b[39m\u001b[38;5;124mNo mappable was found to use for colorbar \u001b[39m\u001b[38;5;124m'\u001b[39m\n\u001b[1;32m   2134\u001b[0m                            \u001b[38;5;124m'\u001b[39m\u001b[38;5;124mcreation. First define a mappable such as \u001b[39m\u001b[38;5;124m'\u001b[39m\n\u001b[1;32m   2135\u001b[0m                            \u001b[38;5;124m'\u001b[39m\u001b[38;5;124man image (with imshow) or a contour set (\u001b[39m\u001b[38;5;124m'\u001b[39m\n\u001b[1;32m   2136\u001b[0m                            \u001b[38;5;124m'\u001b[39m\u001b[38;5;124mwith contourf).\u001b[39m\u001b[38;5;124m'\u001b[39m)\n\u001b[0;32m-> 2137\u001b[0m ret \u001b[38;5;241m=\u001b[39m \u001b[43mgcf\u001b[49m\u001b[43m(\u001b[49m\u001b[43m)\u001b[49m\u001b[38;5;241;43m.\u001b[39;49m\u001b[43mcolorbar\u001b[49m\u001b[43m(\u001b[49m\u001b[43mmappable\u001b[49m\u001b[43m,\u001b[49m\u001b[43m \u001b[49m\u001b[43mcax\u001b[49m\u001b[38;5;241;43m=\u001b[39;49m\u001b[43mcax\u001b[49m\u001b[43m,\u001b[49m\u001b[43m \u001b[49m\u001b[43max\u001b[49m\u001b[38;5;241;43m=\u001b[39;49m\u001b[43max\u001b[49m\u001b[43m,\u001b[49m\u001b[43m \u001b[49m\u001b[38;5;241;43m*\u001b[39;49m\u001b[38;5;241;43m*\u001b[39;49m\u001b[43mkwargs\u001b[49m\u001b[43m)\u001b[49m\n\u001b[1;32m   2138\u001b[0m \u001b[38;5;28;01mreturn\u001b[39;00m ret\n",
      "File \u001b[0;32m/opt/anaconda3/envs/luxeics/lib/python3.10/site-packages/matplotlib/figure.py:1281\u001b[0m, in \u001b[0;36mFigureBase.colorbar\u001b[0;34m(self, mappable, cax, ax, use_gridspec, **kwargs)\u001b[0m\n\u001b[1;32m   1277\u001b[0m userax \u001b[38;5;241m=\u001b[39m \u001b[38;5;28;01mFalse\u001b[39;00m\n\u001b[1;32m   1278\u001b[0m \u001b[38;5;28;01mif\u001b[39;00m (use_gridspec\n\u001b[1;32m   1279\u001b[0m         \u001b[38;5;129;01mand\u001b[39;00m \u001b[38;5;28misinstance\u001b[39m(ax, mpl\u001b[38;5;241m.\u001b[39maxes\u001b[38;5;241m.\u001b[39m_base\u001b[38;5;241m.\u001b[39m_AxesBase)\n\u001b[1;32m   1280\u001b[0m         \u001b[38;5;129;01mand\u001b[39;00m ax\u001b[38;5;241m.\u001b[39mget_subplotspec()):\n\u001b[0;32m-> 1281\u001b[0m     cax, kwargs \u001b[38;5;241m=\u001b[39m \u001b[43mcbar\u001b[49m\u001b[38;5;241;43m.\u001b[39;49m\u001b[43mmake_axes_gridspec\u001b[49m\u001b[43m(\u001b[49m\u001b[43max\u001b[49m\u001b[43m,\u001b[49m\u001b[43m \u001b[49m\u001b[38;5;241;43m*\u001b[39;49m\u001b[38;5;241;43m*\u001b[39;49m\u001b[43mkwargs\u001b[49m\u001b[43m)\u001b[49m\n\u001b[1;32m   1282\u001b[0m \u001b[38;5;28;01melse\u001b[39;00m:\n\u001b[1;32m   1283\u001b[0m     cax, kwargs \u001b[38;5;241m=\u001b[39m cbar\u001b[38;5;241m.\u001b[39mmake_axes(ax, \u001b[38;5;241m*\u001b[39m\u001b[38;5;241m*\u001b[39mkwargs)\n",
      "File \u001b[0;32m/opt/anaconda3/envs/luxeics/lib/python3.10/site-packages/matplotlib/colorbar.py:1580\u001b[0m, in \u001b[0;36mmake_axes_gridspec\u001b[0;34m(parent, location, orientation, fraction, shrink, aspect, **kwargs)\u001b[0m\n\u001b[1;32m   1577\u001b[0m     parent\u001b[38;5;241m.\u001b[39mset_anchor(panchor)\n\u001b[1;32m   1579\u001b[0m fig \u001b[38;5;241m=\u001b[39m parent\u001b[38;5;241m.\u001b[39mget_figure()\n\u001b[0;32m-> 1580\u001b[0m cax \u001b[38;5;241m=\u001b[39m \u001b[43mfig\u001b[49m\u001b[38;5;241;43m.\u001b[39;49m\u001b[43madd_subplot\u001b[49m\u001b[43m(\u001b[49m\u001b[43mss_cb\u001b[49m\u001b[43m,\u001b[49m\u001b[43m \u001b[49m\u001b[43mlabel\u001b[49m\u001b[38;5;241;43m=\u001b[39;49m\u001b[38;5;124;43m\"\u001b[39;49m\u001b[38;5;124;43m<colorbar>\u001b[39;49m\u001b[38;5;124;43m\"\u001b[39;49m\u001b[43m)\u001b[49m\n\u001b[1;32m   1581\u001b[0m cax\u001b[38;5;241m.\u001b[39mset_anchor(anchor)\n\u001b[1;32m   1582\u001b[0m cax\u001b[38;5;241m.\u001b[39mset_box_aspect(aspect)\n",
      "File \u001b[0;32m/opt/anaconda3/envs/luxeics/lib/python3.10/site-packages/matplotlib/figure.py:757\u001b[0m, in \u001b[0;36mFigureBase.add_subplot\u001b[0;34m(self, *args, **kwargs)\u001b[0m\n\u001b[1;32m    754\u001b[0m         args \u001b[38;5;241m=\u001b[39m \u001b[38;5;28mtuple\u001b[39m(\u001b[38;5;28mmap\u001b[39m(\u001b[38;5;28mint\u001b[39m, \u001b[38;5;28mstr\u001b[39m(args[\u001b[38;5;241m0\u001b[39m])))\n\u001b[1;32m    755\u001b[0m     projection_class, pkw \u001b[38;5;241m=\u001b[39m \u001b[38;5;28mself\u001b[39m\u001b[38;5;241m.\u001b[39m_process_projection_requirements(\n\u001b[1;32m    756\u001b[0m         \u001b[38;5;241m*\u001b[39margs, \u001b[38;5;241m*\u001b[39m\u001b[38;5;241m*\u001b[39mkwargs)\n\u001b[0;32m--> 757\u001b[0m     ax \u001b[38;5;241m=\u001b[39m \u001b[43mprojection_class\u001b[49m\u001b[43m(\u001b[49m\u001b[38;5;28;43mself\u001b[39;49m\u001b[43m,\u001b[49m\u001b[43m \u001b[49m\u001b[38;5;241;43m*\u001b[39;49m\u001b[43margs\u001b[49m\u001b[43m,\u001b[49m\u001b[43m \u001b[49m\u001b[38;5;241;43m*\u001b[39;49m\u001b[38;5;241;43m*\u001b[39;49m\u001b[43mpkw\u001b[49m\u001b[43m)\u001b[49m\n\u001b[1;32m    758\u001b[0m     key \u001b[38;5;241m=\u001b[39m (projection_class, pkw)\n\u001b[1;32m    759\u001b[0m \u001b[38;5;28;01mreturn\u001b[39;00m \u001b[38;5;28mself\u001b[39m\u001b[38;5;241m.\u001b[39m_add_axes_internal(ax, key)\n",
      "File \u001b[0;32m/opt/anaconda3/envs/luxeics/lib/python3.10/site-packages/matplotlib/axes/_base.py:683\u001b[0m, in \u001b[0;36m_AxesBase.__init__\u001b[0;34m(self, fig, facecolor, frameon, sharex, sharey, label, xscale, yscale, box_aspect, *args, **kwargs)\u001b[0m\n\u001b[1;32m    680\u001b[0m \u001b[38;5;28mself\u001b[39m\u001b[38;5;241m.\u001b[39mset_axisbelow(mpl\u001b[38;5;241m.\u001b[39mrcParams[\u001b[38;5;124m'\u001b[39m\u001b[38;5;124maxes.axisbelow\u001b[39m\u001b[38;5;124m'\u001b[39m])\n\u001b[1;32m    682\u001b[0m \u001b[38;5;28mself\u001b[39m\u001b[38;5;241m.\u001b[39m_rasterization_zorder \u001b[38;5;241m=\u001b[39m \u001b[38;5;28;01mNone\u001b[39;00m\n\u001b[0;32m--> 683\u001b[0m \u001b[38;5;28;43mself\u001b[39;49m\u001b[38;5;241;43m.\u001b[39;49m\u001b[43mclear\u001b[49m\u001b[43m(\u001b[49m\u001b[43m)\u001b[49m\n\u001b[1;32m    685\u001b[0m \u001b[38;5;66;03m# funcs used to format x and y - fall back on major formatters\u001b[39;00m\n\u001b[1;32m    686\u001b[0m \u001b[38;5;28mself\u001b[39m\u001b[38;5;241m.\u001b[39mfmt_xdata \u001b[38;5;241m=\u001b[39m \u001b[38;5;28;01mNone\u001b[39;00m\n",
      "File \u001b[0;32m/opt/anaconda3/envs/luxeics/lib/python3.10/site-packages/matplotlib/axes/_base.py:1395\u001b[0m, in \u001b[0;36m_AxesBase.clear\u001b[0;34m(self)\u001b[0m\n\u001b[1;32m   1393\u001b[0m     \u001b[38;5;28mself\u001b[39m\u001b[38;5;241m.\u001b[39mcla()\n\u001b[1;32m   1394\u001b[0m \u001b[38;5;28;01melse\u001b[39;00m:\n\u001b[0;32m-> 1395\u001b[0m     \u001b[38;5;28;43mself\u001b[39;49m\u001b[38;5;241;43m.\u001b[39;49m\u001b[43m__clear\u001b[49m\u001b[43m(\u001b[49m\u001b[43m)\u001b[49m\n",
      "File \u001b[0;32m/opt/anaconda3/envs/luxeics/lib/python3.10/site-packages/matplotlib/axes/_base.py:1364\u001b[0m, in \u001b[0;36m_AxesBase.__clear\u001b[0;34m(self)\u001b[0m\n\u001b[1;32m   1361\u001b[0m \u001b[38;5;28mself\u001b[39m\u001b[38;5;241m.\u001b[39mset_axis_on()\n\u001b[1;32m   1363\u001b[0m \u001b[38;5;28mself\u001b[39m\u001b[38;5;241m.\u001b[39mxaxis\u001b[38;5;241m.\u001b[39mset_clip_path(\u001b[38;5;28mself\u001b[39m\u001b[38;5;241m.\u001b[39mpatch)\n\u001b[0;32m-> 1364\u001b[0m \u001b[38;5;28;43mself\u001b[39;49m\u001b[38;5;241;43m.\u001b[39;49m\u001b[43myaxis\u001b[49m\u001b[38;5;241;43m.\u001b[39;49m\u001b[43mset_clip_path\u001b[49m\u001b[43m(\u001b[49m\u001b[38;5;28;43mself\u001b[39;49m\u001b[38;5;241;43m.\u001b[39;49m\u001b[43mpatch\u001b[49m\u001b[43m)\u001b[49m\n\u001b[1;32m   1366\u001b[0m \u001b[38;5;28mself\u001b[39m\u001b[38;5;241m.\u001b[39m_shared_axes[\u001b[38;5;124m\"\u001b[39m\u001b[38;5;124mx\u001b[39m\u001b[38;5;124m\"\u001b[39m]\u001b[38;5;241m.\u001b[39mclean()\n\u001b[1;32m   1367\u001b[0m \u001b[38;5;28mself\u001b[39m\u001b[38;5;241m.\u001b[39m_shared_axes[\u001b[38;5;124m\"\u001b[39m\u001b[38;5;124my\u001b[39m\u001b[38;5;124m\"\u001b[39m]\u001b[38;5;241m.\u001b[39mclean()\n",
      "File \u001b[0;32m/opt/anaconda3/envs/luxeics/lib/python3.10/site-packages/matplotlib/axis.py:1085\u001b[0m, in \u001b[0;36mAxis.set_clip_path\u001b[0;34m(self, clippath, transform)\u001b[0m\n\u001b[1;32m   1083\u001b[0m \u001b[38;5;28msuper\u001b[39m()\u001b[38;5;241m.\u001b[39mset_clip_path(clippath, transform)\n\u001b[1;32m   1084\u001b[0m \u001b[38;5;28;01mfor\u001b[39;00m child \u001b[38;5;129;01min\u001b[39;00m \u001b[38;5;28mself\u001b[39m\u001b[38;5;241m.\u001b[39mmajorTicks \u001b[38;5;241m+\u001b[39m \u001b[38;5;28mself\u001b[39m\u001b[38;5;241m.\u001b[39mminorTicks:\n\u001b[0;32m-> 1085\u001b[0m     \u001b[43mchild\u001b[49m\u001b[38;5;241;43m.\u001b[39;49m\u001b[43mset_clip_path\u001b[49m\u001b[43m(\u001b[49m\u001b[43mclippath\u001b[49m\u001b[43m,\u001b[49m\u001b[43m \u001b[49m\u001b[43mtransform\u001b[49m\u001b[43m)\u001b[49m\n\u001b[1;32m   1086\u001b[0m \u001b[38;5;28mself\u001b[39m\u001b[38;5;241m.\u001b[39mstale \u001b[38;5;241m=\u001b[39m \u001b[38;5;28;01mTrue\u001b[39;00m\n",
      "File \u001b[0;32m/opt/anaconda3/envs/luxeics/lib/python3.10/site-packages/matplotlib/axis.py:240\u001b[0m, in \u001b[0;36mTick.set_clip_path\u001b[0;34m(self, clippath, transform)\u001b[0m\n\u001b[1;32m    237\u001b[0m \u001b[38;5;28;01mdef\u001b[39;00m \u001b[38;5;21mset_clip_path\u001b[39m(\u001b[38;5;28mself\u001b[39m, clippath, transform\u001b[38;5;241m=\u001b[39m\u001b[38;5;28;01mNone\u001b[39;00m):\n\u001b[1;32m    238\u001b[0m     \u001b[38;5;66;03m# docstring inherited\u001b[39;00m\n\u001b[1;32m    239\u001b[0m     \u001b[38;5;28msuper\u001b[39m()\u001b[38;5;241m.\u001b[39mset_clip_path(clippath, transform)\n\u001b[0;32m--> 240\u001b[0m     \u001b[38;5;28;43mself\u001b[39;49m\u001b[38;5;241;43m.\u001b[39;49m\u001b[43mgridline\u001b[49m\u001b[38;5;241;43m.\u001b[39;49m\u001b[43mset_clip_path\u001b[49m\u001b[43m(\u001b[49m\u001b[43mclippath\u001b[49m\u001b[43m,\u001b[49m\u001b[43m \u001b[49m\u001b[43mtransform\u001b[49m\u001b[43m)\u001b[49m\n\u001b[1;32m    241\u001b[0m     \u001b[38;5;28mself\u001b[39m\u001b[38;5;241m.\u001b[39mstale \u001b[38;5;241m=\u001b[39m \u001b[38;5;28;01mTrue\u001b[39;00m\n",
      "File \u001b[0;32m/opt/anaconda3/envs/luxeics/lib/python3.10/site-packages/matplotlib/artist.py:808\u001b[0m, in \u001b[0;36mArtist.set_clip_path\u001b[0;34m(self, path, transform)\u001b[0m\n\u001b[1;32m    806\u001b[0m \u001b[38;5;28;01mif\u001b[39;00m transform \u001b[38;5;129;01mis\u001b[39;00m \u001b[38;5;28;01mNone\u001b[39;00m:\n\u001b[1;32m    807\u001b[0m     \u001b[38;5;28;01mif\u001b[39;00m \u001b[38;5;28misinstance\u001b[39m(path, Rectangle):\n\u001b[0;32m--> 808\u001b[0m         \u001b[38;5;28mself\u001b[39m\u001b[38;5;241m.\u001b[39mclipbox \u001b[38;5;241m=\u001b[39m \u001b[43mTransformedBbox\u001b[49m\u001b[43m(\u001b[49m\u001b[43mBbox\u001b[49m\u001b[38;5;241;43m.\u001b[39;49m\u001b[43munit\u001b[49m\u001b[43m(\u001b[49m\u001b[43m)\u001b[49m\u001b[43m,\u001b[49m\n\u001b[1;32m    809\u001b[0m \u001b[43m                                       \u001b[49m\u001b[43mpath\u001b[49m\u001b[38;5;241;43m.\u001b[39;49m\u001b[43mget_transform\u001b[49m\u001b[43m(\u001b[49m\u001b[43m)\u001b[49m\u001b[43m)\u001b[49m\n\u001b[1;32m    810\u001b[0m         \u001b[38;5;28mself\u001b[39m\u001b[38;5;241m.\u001b[39m_clippath \u001b[38;5;241m=\u001b[39m \u001b[38;5;28;01mNone\u001b[39;00m\n\u001b[1;32m    811\u001b[0m         success \u001b[38;5;241m=\u001b[39m \u001b[38;5;28;01mTrue\u001b[39;00m\n",
      "File \u001b[0;32m/opt/anaconda3/envs/luxeics/lib/python3.10/site-packages/matplotlib/transforms.py:1104\u001b[0m, in \u001b[0;36mTransformedBbox.__init__\u001b[0;34m(self, bbox, transform, **kwargs)\u001b[0m\n\u001b[1;32m   1102\u001b[0m \u001b[38;5;28mself\u001b[39m\u001b[38;5;241m.\u001b[39m_bbox \u001b[38;5;241m=\u001b[39m bbox\n\u001b[1;32m   1103\u001b[0m \u001b[38;5;28mself\u001b[39m\u001b[38;5;241m.\u001b[39m_transform \u001b[38;5;241m=\u001b[39m transform\n\u001b[0;32m-> 1104\u001b[0m \u001b[38;5;28;43mself\u001b[39;49m\u001b[38;5;241;43m.\u001b[39;49m\u001b[43mset_children\u001b[49m\u001b[43m(\u001b[49m\u001b[43mbbox\u001b[49m\u001b[43m,\u001b[49m\u001b[43m \u001b[49m\u001b[43mtransform\u001b[49m\u001b[43m)\u001b[49m\n\u001b[1;32m   1105\u001b[0m \u001b[38;5;28mself\u001b[39m\u001b[38;5;241m.\u001b[39m_points \u001b[38;5;241m=\u001b[39m \u001b[38;5;28;01mNone\u001b[39;00m\n",
      "File \u001b[0;32m/opt/anaconda3/envs/luxeics/lib/python3.10/site-packages/matplotlib/transforms.py:208\u001b[0m, in \u001b[0;36mTransformNode.set_children\u001b[0;34m(self, *children)\u001b[0m\n\u001b[1;32m    201\u001b[0m \u001b[38;5;66;03m# Parents are stored as weak references, so that if the\u001b[39;00m\n\u001b[1;32m    202\u001b[0m \u001b[38;5;66;03m# parents are destroyed, references from the children won't\u001b[39;00m\n\u001b[1;32m    203\u001b[0m \u001b[38;5;66;03m# keep them alive.\u001b[39;00m\n\u001b[1;32m    204\u001b[0m \u001b[38;5;28;01mfor\u001b[39;00m child \u001b[38;5;129;01min\u001b[39;00m children:\n\u001b[1;32m    205\u001b[0m     \u001b[38;5;66;03m# Use weak references so this dictionary won't keep obsolete nodes\u001b[39;00m\n\u001b[1;32m    206\u001b[0m     \u001b[38;5;66;03m# alive; the callback deletes the dictionary entry. This is a\u001b[39;00m\n\u001b[1;32m    207\u001b[0m     \u001b[38;5;66;03m# performance improvement over using WeakValueDictionary.\u001b[39;00m\n\u001b[0;32m--> 208\u001b[0m     ref \u001b[38;5;241m=\u001b[39m \u001b[43mweakref\u001b[49m\u001b[38;5;241;43m.\u001b[39;49m\u001b[43mref\u001b[49m\u001b[43m(\u001b[49m\n\u001b[1;32m    209\u001b[0m \u001b[43m        \u001b[49m\u001b[38;5;28;43mself\u001b[39;49m\u001b[43m,\u001b[49m\u001b[43m \u001b[49m\u001b[38;5;28;43;01mlambda\u001b[39;49;00m\u001b[43m \u001b[49m\u001b[43m_\u001b[49m\u001b[43m,\u001b[49m\u001b[43m \u001b[49m\u001b[43mpop\u001b[49m\u001b[38;5;241;43m=\u001b[39;49m\u001b[43mchild\u001b[49m\u001b[38;5;241;43m.\u001b[39;49m\u001b[43m_parents\u001b[49m\u001b[38;5;241;43m.\u001b[39;49m\u001b[43mpop\u001b[49m\u001b[43m,\u001b[49m\u001b[43m \u001b[49m\u001b[43mk\u001b[49m\u001b[38;5;241;43m=\u001b[39;49m\u001b[38;5;28;43mid\u001b[39;49m\u001b[43m(\u001b[49m\u001b[38;5;28;43mself\u001b[39;49m\u001b[43m)\u001b[49m\u001b[43m:\u001b[49m\u001b[43m \u001b[49m\u001b[43mpop\u001b[49m\u001b[43m(\u001b[49m\u001b[43mk\u001b[49m\u001b[43m)\u001b[49m\u001b[43m)\u001b[49m\n\u001b[1;32m    210\u001b[0m     child\u001b[38;5;241m.\u001b[39m_parents[\u001b[38;5;28mid\u001b[39m(\u001b[38;5;28mself\u001b[39m)] \u001b[38;5;241m=\u001b[39m ref\n",
      "\u001b[0;31mKeyboardInterrupt\u001b[0m: "
     ]
    },
    {
     "data": {
      "image/png": "[encoded data removed]",
      "text/plain": [
       "<Figure size 720x432 with 1 Axes>"
      ]
     },
     "metadata": {
      "needs_background": "light"
     },
     "output_type": "display_data"
    }
   ],
   "source": [
    "figure(figsize=(10,6))\n",
    "\n",
    "subplot(111,aspect=1)\n",
    "hist2d(K1/K3*1e6,K2/K3*1e6,bins=(50,50),weights=W,rasterized=True,cmap=cm.magma);\n",
    "colorbar()\n",
    "title(f'{sampling} sampling')\n",
    "\n",
    "xlabel(r'$\\theta_x$ (urad)')\n",
    "ylabel(r'$\\theta_y$ (urad)')\n",
    "\n",
    "\n",
    "savefig(f'photon_transverse_angles_{input_filename}.pdf')"
   ]
  },
  {
   "cell_type": "code",
   "execution_count": null,
   "metadata": {
    "ExecuteTime": {
     "end_time": "2023-08-16T09:41:26.267933Z",
     "start_time": "2023-08-16T09:41:26.267904Z"
    }
   },
   "outputs": [],
   "source": [
    "figure(figsize=(10,6))\n",
    "\n",
    "bbins=(linspace(-2*w0,2*w0,50),linspace(-2*w0,2*w0,50))\n",
    "\n",
    "subplot(111,aspect=1)\n",
    "hist2d(X1,X2,bins=bbins,weights=W,rasterized=True,cmap=cm.magma);\n",
    "colorbar()\n",
    "\n",
    "xlabel(r'$x@$source (micron)')\n",
    "ylabel(r'$y@$source (micron)')\n",
    "title(f'{sampling} sampling')\n",
    "\n",
    "xlim(-2*w0,2*w0)\n",
    "ylim(-2*w0,2*w0)\n",
    "\n",
    "\n",
    "savefig(f'photon_source_size_{input_filename}.pdf')\n"
   ]
  },
  {
   "cell_type": "code",
   "execution_count": null,
   "metadata": {
    "ExecuteTime": {
     "end_time": "2023-08-16T09:41:26.270509Z",
     "start_time": "2023-08-16T09:41:26.270478Z"
    }
   },
   "outputs": [],
   "source": [
    "figure(figsize=(10,6))\n",
    "bbins=(linspace(-75,75,50),linspace(-2*w0,2*w0,50))\n",
    "\n",
    "subplot(111)\n",
    "hist2d(X0-X3,X1,bins=bbins,weights=W ,rasterized=True,cmap=cm.magma);\n",
    "colorbar()\n",
    "\n",
    "xlabel(r'$t-z@$source (micron)')\n",
    "ylabel(r'$x@$source (micron)')\n",
    "title(f'{sampling} sampling')\n",
    "\n",
    "\n",
    "\n",
    "savefig(f'photon_source_length_{input_filename}.pdf')\n"
   ]
  },
  {
   "cell_type": "code",
   "execution_count": null,
   "metadata": {
    "ExecuteTime": {
     "end_time": "2023-08-16T09:41:26.273003Z",
     "start_time": "2023-08-16T09:41:26.272983Z"
    }
   },
   "outputs": [],
   "source": [
    "figure(figsize=(10,6))\n",
    "bbins=(50,50)\n",
    "\n",
    "subplot(111)\n",
    "hist2d(X0-X3,X0+X3,bins=bbins,weights=W ,rasterized=True,cmap=cm.magma);\n",
    "colorbar()\n",
    "\n",
    "xlabel(r'$t-z@$source (micron)')\n",
    "ylabel(r'$t+z@$source (micron)')\n",
    "title(f'{sampling} sampling')\n",
    "\n",
    "\n",
    "\n",
    "savefig(f'photon_source_lightfront_{input_filename}.pdf')\n"
   ]
  },
  {
   "cell_type": "code",
   "execution_count": null,
   "metadata": {
    "ExecuteTime": {
     "end_time": "2023-08-16T09:41:26.275124Z",
     "start_time": "2023-08-16T09:41:26.275096Z"
    }
   },
   "outputs": [],
   "source": [
    "figure(figsize=(10,6))\n",
    "\n",
    "bbins=(55,55)#(linspace(6,9,50),linspace(0,15,50))\n",
    "\n",
    "subplot(111)\n",
    "hist2d(K0/1e9,sqrt(K1**2+K2**2)/K3*1e6,bins=bbins,weights=W/sqrt(K1**2+K2**2),rasterized=True,cmap=cm.magma);\n",
    "colorbar()\n",
    "xlabel(r'$\\omega$ (GeV)')\n",
    "ylabel(r'$\\theta$ ($\\mu$rad)');\n",
    "title(rf'{sampling} sampling')\n",
    "\n",
    "\n",
    "savefig(f'photon_angular_spectrum_{input_filename}.pdf')\n"
   ]
  },
  {
   "cell_type": "code",
   "execution_count": null,
   "metadata": {
    "ExecuteTime": {
     "end_time": "2023-08-16T09:41:26.277782Z",
     "start_time": "2023-08-16T09:41:26.277751Z"
    }
   },
   "outputs": [],
   "source": [
    "figure(figsize=(10,6))\n",
    "\n",
    "bbins=(linspace(6,9,50),linspace(0,50,50))\n",
    "\n",
    "subplot(111)\n",
    "hist2d(K0/1e9,sqrt(X1**2+X2**2),bins=bbins,weights=W/sqrt(X1**2+X2**2),rasterized=True,cmap=cm.magma);\n",
    "colorbar()\n",
    "xlabel(r'$\\omega$ (GeV)')\n",
    "ylabel(r'$r$ ($\\mu$m)');\n",
    "title(rf'{sampling} sampling')\n",
    "ylim(0,w0)\n",
    "\n",
    "savefig(f'photon_transverse_spectrum_{input_filename}.pdf')\n"
   ]
  },
  {
   "cell_type": "code",
   "execution_count": null,
   "metadata": {
    "ExecuteTime": {
     "end_time": "2023-08-16T09:41:26.280471Z",
     "start_time": "2023-08-16T09:41:26.280426Z"
    }
   },
   "outputs": [],
   "source": [
    "thetax=K1/K3\n",
    "thetay=K2/K3\n",
    "\n",
    "baseline = 7.5e6 \n",
    "\n",
    "xoffset = thetax * baseline\n",
    "yoffset = thetay * baseline"
   ]
  },
  {
   "cell_type": "code",
   "execution_count": null,
   "metadata": {
    "ExecuteTime": {
     "end_time": "2023-08-16T09:41:26.283210Z",
     "start_time": "2023-08-16T09:41:26.283193Z"
    }
   },
   "outputs": [],
   "source": [
    "spotsize = 10 # micron\n",
    "\n",
    "\n",
    "figure(figsize=(14,6))\n",
    "\n",
    "ax1=subplot(121,aspect=1)\n",
    "scatter(xoffset, yoffset, color='r',marker='.',lw=0,s=W);\n",
    "xlim(-2*spotsize,2*spotsize)\n",
    "ylim(-2*spotsize,2*spotsize)\n",
    "xlabel(r'$x$ (micron)')\n",
    "ylabel(r'$y$ (micron)');\n",
    "title('zero source size')\n",
    "\n",
    "\n",
    "ax2=subplot(122,aspect=1)\n",
    "\n",
    "# plot(X1+xoffset, X2+yoffset, color='m', marker=',',lw=0);\n",
    "scatter(X1+xoffset, X2+yoffset, color='m', marker='.',lw=0,s=W);\n",
    "\n",
    "xlim(-2*spotsize,2*spotsize)\n",
    "ylim(-2*spotsize,2*spotsize)\n",
    "\n",
    "xlabel(r'$x$ (micron)')\n",
    "ylabel(r'$y$ (micron)');\n",
    "title('finite source size')\n",
    "\n",
    "ax1.add_patch(Circle((0,0),spotsize,color='C0',fill=False))\n",
    "ax2.add_patch(Circle((0,0),spotsize,color='C0',fill=False))\n",
    "\n",
    "\n",
    "suptitle(f'{sampling} sampling')\n",
    "\n",
    "savefig(f'photons_at_focus_{input_filename}.png',dpi=200)\n",
    "\n"
   ]
  },
  {
   "cell_type": "code",
   "execution_count": null,
   "metadata": {
    "ExecuteTime": {
     "end_time": "2023-08-16T09:41:26.284397Z",
     "start_time": "2023-08-16T09:41:26.284378Z"
    }
   },
   "outputs": [],
   "source": [
    "spotsize = 10 # micron\n",
    "\n",
    "\n",
    "figure(figsize=(14,6))\n",
    "\n",
    "ax1=subplot(121,aspect=1)\n",
    "scatter(X1+xoffset, X2+yoffset, c=Stokes1, marker='s',lw=0,s=50,vmin=-1,vmax=1,cmap=cm.PuOr);\n",
    "colorbar()\n",
    "xlim(-spotsize,spotsize)\n",
    "ylim(-spotsize,spotsize)\n",
    "xlabel(r'$x$ (micron)')\n",
    "ylabel(r'$y$ (micron)');\n",
    "title('Stokes 1')\n",
    "\n",
    "\n",
    "ax2=subplot(122,aspect=1)\n",
    "\n",
    "# plot(X1+xoffset, X2+yoffset, color='m', marker=',',lw=0);\n",
    "scatter(X1+xoffset, X2+yoffset, c=Stokes3, marker='s',lw=0,s=50,vmin=-1,vmax=1,cmap=cm.PuOr);\n",
    "colorbar()\n",
    "\n",
    "xlim(-spotsize,spotsize)\n",
    "ylim(-spotsize,spotsize)\n",
    "\n",
    "xlabel(r'$x$ (micron)')\n",
    "ylabel(r'$y$ (micron)');\n",
    "title('Stokes 3')\n",
    "\n",
    "ax1.add_patch(Circle((0,0),spotsize,color='0.5',fill=False))\n",
    "ax2.add_patch(Circle((0,0),spotsize,color='0.5',fill=False))\n",
    "\n",
    "\n",
    "suptitle(f'{sampling} sampling')\n",
    "\n",
    "savefig(f'photons_at_focus_StokesParameters_{input_filename}.png',dpi=200)\n",
    "\n"
   ]
  },
  {
   "cell_type": "code",
   "execution_count": null,
   "metadata": {
    "ExecuteTime": {
     "end_time": "2023-08-16T09:41:26.286279Z",
     "start_time": "2023-08-16T09:41:26.286262Z"
    }
   },
   "outputs": [],
   "source": [
    "spotsize = 10 # micron\n",
    "\n",
    "phi = arctan2(K2,K1)\n",
    "# rotated Stokes parameters\n",
    "Stokes_rot3 = cos(2*phi) * Stokes3 - sin(2*phi) * Stokes1\n",
    "Stokes_rot1 = sin(2*phi) * Stokes3 + cos(2*phi) * Stokes1\n",
    "\n",
    "\n",
    "\n",
    "figure(figsize=(18,4))\n",
    "\n",
    "ax1=subplot(131,aspect=1)\n",
    "scatter(X1+xoffset, X2+yoffset, c=sqrt(Stokes1**2 + Stokes3**2), marker='s',lw=0,s=20,cmap=cm.jet);\n",
    "colorbar()\n",
    "xlim(-spotsize,spotsize)\n",
    "ylim(-spotsize,spotsize)\n",
    "xlabel(r'$x$ (micron)')\n",
    "ylabel(r'$y$ (micron)');\n",
    "title('Polarization degree')\n",
    "\n",
    "\n",
    "ax2=subplot(132,aspect=1)\n",
    "\n",
    "title('Stokes parameter S1 in lab frame')\n",
    "\n",
    "scatter(X1+xoffset, X2+yoffset, c=Stokes_rot1, marker='s',s=20,vmin=-1,vmax=1,cmap=cm.jet);\n",
    "colorbar()\n",
    "xlim(-spotsize,spotsize)\n",
    "ylim(-spotsize,spotsize)\n",
    "xlabel(r'$x$ (micron)')\n",
    "ylabel(r'$y$ (micron)');\n",
    "\n",
    "ax3=subplot(133,aspect=1)\n",
    "\n",
    "title('Stokes parameter S3 in lab frame')\n",
    "\n",
    "scatter(X1+xoffset, X2+yoffset, c=Stokes_rot3, marker='s',s=20,vmin=-1,vmax=1,cmap=cm.jet);\n",
    "colorbar()\n",
    "xlim(-spotsize,spotsize)\n",
    "ylim(-spotsize,spotsize)\n",
    "xlabel(r'$x$ (micron)')\n",
    "ylabel(r'$y$ (micron)');\n",
    "\n",
    "ax1.add_patch(Circle((0,0),spotsize,color='0.5',fill=False))\n",
    "ax2.add_patch(Circle((0,0),spotsize,color='0.5',fill=False))\n",
    "ax3.add_patch(Circle((0,0),spotsize,color='0.5',fill=False))\n",
    "\n",
    "\n",
    "# suptitle(f'{sampling} sampling')\n",
    "\n",
    "savefig(f'PolarizationDegree2_{input_filename}.png',dpi=200)\n",
    "\n"
   ]
  },
  {
   "cell_type": "code",
   "execution_count": null,
   "metadata": {
    "ExecuteTime": {
     "end_time": "2023-08-16T09:41:26.288948Z",
     "start_time": "2023-08-16T09:41:26.288908Z"
    }
   },
   "outputs": [],
   "source": [
    "spotsize = 10 # micron\n",
    "\n",
    "phi = arctan2(K2,K1)\n",
    "# rotated Stokes parameters\n",
    "Stokes_rot3 = cos(2*phi) * Stokes3 - sin(2*phi) * Stokes1\n",
    "Stokes_rot1 = sin(2*phi) * Stokes3 + cos(2*phi) * Stokes1\n",
    "\n",
    "\n",
    "\n",
    "figure(figsize=(18,4))\n",
    "\n",
    "ax1=subplot(131)\n",
    "scatter(K0/1e9, 1e6* sqrt(K1**2+K2**2)/K3, c=sqrt(Stokes1**2 + Stokes3**2), marker='s',lw=0,s=20,cmap=cm.jet);\n",
    "colorbar()\n",
    "# xlim(-spotsize,spotsize)\n",
    "# ylim(-spotsize,spotsize)\n",
    "xlabel(r'$\\omega$ (GeV)')\n",
    "ylabel(r'$\\theta$ (urad)');\n",
    "title('Polarization degree')\n",
    "\n",
    "\n",
    "ax2=subplot(132)\n",
    "\n",
    "title('Stokes parameter S1 in lab frame')\n",
    "\n",
    "scatter(K0/1e9,  1e6*sqrt(K1**2+K2**2)/K3, c=Stokes_rot1, marker='s',s=20,vmin=-1,vmax=1,cmap=cm.PiYG);\n",
    "colorbar()\n",
    "# xlim(-spotsize,spotsize)\n",
    "# ylim(-spotsize,spotsize)\n",
    "xlabel(r'$\\omega$ (GeV)')\n",
    "ylabel(r'$\\theta$ (urad)');\n",
    "\n",
    "\n",
    "ax3=subplot(133)\n",
    "\n",
    "title('Stokes parameter S3 in lab frame')\n",
    "\n",
    "scatter(K0/1e9,  1e6*sqrt(K1**2+K2**2)/K3, c=Stokes_rot3, marker='s',s=20,vmin=-1,vmax=1,cmap=cm.PiYG);\n",
    "colorbar()\n",
    "# xlim(-spotsize,spotsize)\n",
    "# ylim(-spotsize,spotsize)\n",
    "xlabel(r'$\\omega$ (GeV)')\n",
    "ylabel(r'$\\theta$ (urad)');\n",
    "\n",
    "\n",
    "\n",
    "\n",
    "# suptitle(f'{sampling} sampling')\n",
    "\n",
    "savefig(f'PolarizationDegree_energyangle_scatter_{input_filename}.png',dpi=200)\n",
    "\n"
   ]
  },
  {
   "cell_type": "code",
   "execution_count": null,
   "metadata": {
    "ExecuteTime": {
     "end_time": "2023-08-16T09:41:26.291780Z",
     "start_time": "2023-08-16T09:41:26.291732Z"
    }
   },
   "outputs": [],
   "source": [
    "spotsize = 10 # micron\n",
    "\n",
    "phi = arctan2(K2,K1)\n",
    "# rotated Stokes parameters\n",
    "Stokes_rot3 = cos(2*phi) * Stokes3 - sin(2*phi) * Stokes1\n",
    "Stokes_rot1 = sin(2*phi) * Stokes3 + cos(2*phi) * Stokes1\n",
    "PolDegree   = np.sqrt(Stokes1**2 + Stokes3**2)\n",
    "\n",
    "bbins = (54,52)\n",
    "\n",
    "# subplot(111,aspect=1)\n",
    "values_w_s, xedge, yedge = histogram2d(K0/1e9,1e6* np.sqrt(K1**2+K2**2)/K3,bins=bbins,weights=W*PolDegree )\n",
    "values_w  , xedge, yedge = histogram2d(K0/1e9,1e6* np.sqrt(K1**2+K2**2)/K3,bins=bbins,weights=W           )\n",
    "values_w_rot3, xedge, yedge = histogram2d(K0/1e9,1e6* np.sqrt(K1**2+K2**2)/K3,bins=bbins,weights=W*Stokes_rot3 )\n",
    "values_w_rot1 , xedge, yedge = histogram2d(K0/1e9,1e6* np.sqrt(K1**2+K2**2)/K3,bins=bbins,weights=W*Stokes_rot1 )\n",
    "\n",
    "\n",
    "\n",
    "figure(figsize=(18,4))\n",
    "\n",
    "ax1=subplot(131)\n",
    "pcolormesh(xedge, yedge , (values_w_s / values_w ).T , cmap=cm.jet, vmin=0,vmax=1);\n",
    "colorbar()\n",
    "xlabel(r'$\\omega$ (GeV)')\n",
    "ylabel(r'$\\theta$ (urad)');\n",
    "title('Polarization degree')\n",
    "\n",
    "\n",
    "ax2=subplot(132)\n",
    "title('Stokes parameter S1 in lab frame')\n",
    "\n",
    "pcolormesh(xedge, yedge, (values_w_rot1/values_w).T, rasterized=True,vmin=-1,vmax=1,cmap=cm.PiYG);\n",
    "colorbar()\n",
    "xlabel(r'$\\omega$ (GeV)')\n",
    "ylabel(r'$\\theta$ (urad)');\n",
    "\n",
    "\n",
    "ax3=subplot(133)\n",
    "\n",
    "title('Stokes parameter S3 in lab frame')\n",
    "\n",
    "pcolormesh(xedge, yedge, (values_w_rot3/values_w).T, rasterized=True,vmin=-1,vmax=1,cmap=cm.PiYG);\n",
    "colorbar()\n",
    "xlabel(r'$\\omega$ (GeV)')\n",
    "ylabel(r'$\\theta$ (urad)');\n",
    "\n",
    "\n",
    "\n",
    "\n",
    "# suptitle(f'{sampling} sampling')\n",
    "\n",
    "savefig(f'PolarizationDegree_energyangle_histogram_{input_filename}.png',dpi=200)\n",
    "\n"
   ]
  },
  {
   "cell_type": "code",
   "execution_count": null,
   "metadata": {
    "ExecuteTime": {
     "end_time": "2023-08-16T09:41:26.293480Z",
     "start_time": "2023-08-16T09:41:26.293454Z"
    }
   },
   "outputs": [],
   "source": [
    "spotsize = 10 # micron\n",
    "\n",
    "phi = arctan2(K2,K1)\n",
    "# rotated Stokes parameters\n",
    "Stokes_rot3 = cos(2*phi) * Stokes3 - sin(2*phi) * Stokes1\n",
    "Stokes_rot1 = sin(2*phi) * Stokes3 + cos(2*phi) * Stokes1\n",
    "PolDegree   = np.sqrt(Stokes1**2 + Stokes3**2)\n",
    "\n",
    "bbins = (54,52)\n",
    "\n",
    "# subplot(111,aspect=1)\n",
    "values_w_s, xedge, yedge = histogram2d(K0/1e9,1e6* np.sqrt(K1**2+K2**2)/K3,bins=bbins,weights=W*PolDegree )\n",
    "values_w  , xedge, yedge = histogram2d(K0/1e9,1e6* np.sqrt(K1**2+K2**2)/K3,bins=bbins,weights=W           )\n",
    "values_w_rot3, xedge, yedge = histogram2d(K0/1e9,1e6* np.sqrt(K1**2+K2**2)/K3,bins=bbins,weights=W*Stokes_rot3 )\n",
    "values_w_rot1 , xedge, yedge = histogram2d(K0/1e9,1e6* np.sqrt(K1**2+K2**2)/K3,bins=bbins,weights=W*Stokes_rot1 )\n",
    "\n",
    "\n",
    "\n",
    "figure(figsize=(18,4))\n",
    "\n",
    "ax1=subplot(131)\n",
    "pcolormesh(xedge, yedge , (values_w_s / values_w ).T , cmap=cm.jet, vmin=0,vmax=1);\n",
    "colorbar()\n",
    "xlabel(r'$\\omega$ (GeV)')\n",
    "ylabel(r'$\\theta$ (urad)');\n",
    "title('Polarization degree')\n",
    "\n",
    "\n",
    "ax2=subplot(132)\n",
    "title('Stokes parameter S1 in lab frame')\n",
    "\n",
    "pcolormesh(xedge, yedge, (values_w_rot1/values_w).T, rasterized=True,vmin=-1,vmax=1,cmap=cm.PiYG);\n",
    "colorbar()\n",
    "xlabel(r'$\\omega$ (GeV)')\n",
    "ylabel(r'$\\theta$ (urad)');\n",
    "\n",
    "\n",
    "ax3=subplot(133)\n",
    "\n",
    "title('Stokes parameter S3 in lab frame')\n",
    "\n",
    "pcolormesh(xedge, yedge, (values_w_rot3/values_w).T, rasterized=True,vmin=-1,vmax=1,cmap=cm.PiYG);\n",
    "colorbar()\n",
    "xlabel(r'$\\omega$ (GeV)')\n",
    "ylabel(r'$\\theta$ (urad)');\n",
    "\n",
    "\n",
    "\n",
    "\n",
    "# suptitle(f'{sampling} sampling')\n",
    "\n",
    "savefig(f'PolarizationDegree_energyangle2_{input_filename}.png',dpi=200)\n",
    "\n"
   ]
  },
  {
   "cell_type": "code",
   "execution_count": null,
   "metadata": {
    "ExecuteTime": {
     "end_time": "2023-08-16T09:41:26.299797Z",
     "start_time": "2023-08-16T09:41:26.299731Z"
    }
   },
   "outputs": [],
   "source": [
    "# standard deviations\n",
    "\n",
    "spotsize = 10 # micron\n",
    "\n",
    "phi = arctan2(K2,K1)\n",
    "# rotated Stokes parameters\n",
    "Stokes_rot3 = cos(2*phi) * Stokes3 - sin(2*phi) * Stokes1\n",
    "Stokes_rot1 = sin(2*phi) * Stokes3 + cos(2*phi) * Stokes1\n",
    "PolDegree   = np.sqrt(Stokes1**2 + Stokes3**2)\n",
    "\n",
    "bbins = (54,52)\n",
    "\n",
    "# subplot(111,aspect=1)\n",
    "values_w_s, xedge, yedge = histogram2d(K0/1e9,1e6* np.sqrt(K1**2+K2**2)/K3,bins=bbins,weights=W*PolDegree )\n",
    "values_w  , xedge, yedge = histogram2d(K0/1e9,1e6* np.sqrt(K1**2+K2**2)/K3,bins=bbins,weights=W           )\n",
    "values_w_rot3, xedge, yedge = histogram2d(K0/1e9,1e6* np.sqrt(K1**2+K2**2)/K3,bins=bbins,weights=W*Stokes_rot3 )\n",
    "values_w_rot1 , xedge, yedge = histogram2d(K0/1e9,1e6* np.sqrt(K1**2+K2**2)/K3,bins=bbins,weights=W*Stokes_rot1 )\n",
    "\n",
    "mean_poldegree = values_w_s/values_w\n",
    "mean_rot1      = values_w_rot1/values_w\n",
    "mean_rot3      = values_w_rot3/values_w\n",
    "\n",
    "values_moment2_w_s, *_    = histogram2d(K0/1e9,1e6* np.sqrt(K1**2+K2**2)/K3,bins=bbins,weights=W*PolDegree**2 )\n",
    "values_moment2_w_rot1, *_ = histogram2d(K0/1e9,1e6* np.sqrt(K1**2+K2**2)/K3,bins=bbins,weights=W*Stokes_rot1**2 )\n",
    "values_moment2_w_rot3, *_ = histogram2d(K0/1e9,1e6* np.sqrt(K1**2+K2**2)/K3,bins=bbins,weights=W*Stokes_rot3**2 )\n",
    "\n",
    "var_s    = values_moment2_w_s    / values_w - mean_poldegree**2\n",
    "var_rot1 = values_moment2_w_rot1 / values_w - mean_rot1**2\n",
    "var_rot3 = values_moment2_w_rot3 / values_w - mean_rot3**2\n",
    "\n",
    "std_s       = sqrt(var_s)\n",
    "std_rot1    = sqrt(var_rot1)\n",
    "std_rot3    = sqrt(var_rot3)\n",
    "\n",
    "\n",
    "figure(figsize=(18,4))\n",
    "\n",
    "ax1=subplot(131)\n",
    "pcolormesh(xedge, yedge , std_s.T , cmap=cm.pink_r);\n",
    "colorbar()\n",
    "xlabel(r'$\\omega$ (GeV)')\n",
    "ylabel(r'$\\theta$ (urad)');\n",
    "title('STD Polarization degree')\n",
    "\n",
    "\n",
    "ax2=subplot(132)\n",
    "title('STD Stokes parameter S1 in lab frame')\n",
    "\n",
    "pcolormesh(xedge, yedge, std_rot1.T, rasterized=True,cmap=cm.pink_r);\n",
    "colorbar()\n",
    "xlabel(r'$\\omega$ (GeV)')\n",
    "ylabel(r'$\\theta$ (urad)');\n",
    "\n",
    "\n",
    "ax3=subplot(133)\n",
    "\n",
    "title('STD Stokes parameter S3 in lab frame')\n",
    "\n",
    "pcolormesh(xedge, yedge, std_rot3.T, rasterized=True,cmap=cm.pink_r);\n",
    "colorbar()\n",
    "xlabel(r'$\\omega$ (GeV)')\n",
    "ylabel(r'$\\theta$ (urad)');\n",
    "\n",
    "\n",
    "\n",
    "\n",
    "# suptitle(f'{sampling} sampling')\n",
    "\n",
    "savefig(f'PolarizationDegree_STD_{input_filename}.png',dpi=200)\n",
    "\n"
   ]
  },
  {
   "cell_type": "code",
   "execution_count": null,
   "metadata": {
    "ExecuteTime": {
     "end_time": "2023-08-16T09:41:26.302210Z",
     "start_time": "2023-08-16T09:41:26.302123Z"
    }
   },
   "outputs": [],
   "source": [
    "selector1 = sqrt(xoffset**2+yoffset**2) < spotsize\n",
    "selector2 = sqrt((xoffset+X1)**2+(yoffset+X2)**2) < spotsize\n",
    "\n",
    "\n",
    "print ( f'IP-laser spot size: {spotsize:.2f} micron')\n",
    "print ( f'baseline          : {baseline/1e6:.2f} metres')\n",
    "print ('-'*42)\n",
    "\n",
    "print (f'photons in spot, {sampling} sampling:')\n",
    "print (f'macrophoton weight               : {amax(W):.4g}')\n",
    "print ( 'macrophotons, zero   source size :',sum( selector1 ) )\n",
    "print ( 'macrophotons, finite source size :',sum( selector2 ) )\n",
    "print ( 'photon weight, zero   source size:',sum(W[selector1 ] ) )\n",
    "print ( 'photon weight, finite source size:',sum(W[selector2 ] ) )\n"
   ]
  },
  {
   "cell_type": "markdown",
   "metadata": {},
   "source": [
    "### Photon Spectrum at IP"
   ]
  },
  {
   "cell_type": "code",
   "execution_count": null,
   "metadata": {
    "ExecuteTime": {
     "end_time": "2023-08-16T09:41:26.303660Z",
     "start_time": "2023-08-16T09:41:26.303641Z"
    }
   },
   "outputs": [],
   "source": [
    "figure(figsize=(10,6))\n",
    "\n",
    "subplot(111)\n",
    "hist(K0[selector1]/1e9,bins=linspace(6,9,50),weights=W[selector1],alpha=1  ,fc='C0',label='no source size');\n",
    "hist(K0[selector2]/1e9,bins=linspace(6,9,50),weights=W[selector2],alpha=0.5,fc='C3',label='finite source size'); \n",
    "xlim(6,9)\n",
    "legend()\n",
    "xlabel('ICS photon energy (GeV)')\n",
    "ylabel('photon spectrum at IP')\n",
    "title(rf'{sampling} sampling')\n",
    "\n",
    "savefig(f'photon_spectrum_at_focus_{input_filename}.pdf')\n"
   ]
  },
  {
   "cell_type": "markdown",
   "metadata": {},
   "source": [
    "### Photon Weight Distribution at IP"
   ]
  },
  {
   "cell_type": "code",
   "execution_count": null,
   "metadata": {
    "ExecuteTime": {
     "end_time": "2023-08-16T09:41:26.305868Z",
     "start_time": "2023-08-16T09:41:26.305845Z"
    }
   },
   "outputs": [],
   "source": [
    "figure(figsize=(10,6))\n",
    "base_weight = amax(W)\n",
    "bbins = linspace(0,base_weight,50) \n",
    "\n",
    "hist( W[selector1],bins=bbins,label='zero source size'  ,fc='C0');\n",
    "hist( W[selector2],bins=bbins,label='finite source size',fc='C3',alpha=0.5);\n",
    "\n",
    "\n",
    "xlabel('macrophoton weigths')\n",
    "ylabel('#macrophotons with weight')\n",
    "title(rf'{sampling} sampling')\n",
    "legend()\n",
    "savefig(f'photon_weights_{input_filename}.pdf')\n"
   ]
  },
  {
   "cell_type": "code",
   "execution_count": null,
   "metadata": {
    "ExecuteTime": {
     "end_time": "2023-08-16T09:41:26.308490Z",
     "start_time": "2023-08-16T09:41:26.308433Z"
    }
   },
   "outputs": [],
   "source": [
    "figure(figsize=(10,6))\n",
    "base_weight = amax(W)\n",
    "bbins = linspace(0,base_weight,50) \n",
    "\n",
    "hist( W[selector1],bins=bbins,weights=W[selector1],label='zero source size'  ,fc='C0',alpha=1.0);\n",
    "hist( W[selector2],bins=bbins,weights=W[selector2],label='finite source size',fc='C3',alpha=0.5);\n",
    "\n",
    "xlabel('macrophoton weigths')\n",
    "ylabel('#macrophotons with weight')\n",
    "title(rf'{sampling} sampling')\n",
    "legend()\n",
    "savefig(f'photon_weights2_{input_filename}.pdf')\n"
   ]
  },
  {
   "cell_type": "markdown",
   "metadata": {},
   "source": [
    "# Electrons"
   ]
  },
  {
   "cell_type": "code",
   "execution_count": null,
   "metadata": {
    "ExecuteTime": {
     "end_time": "2023-08-16T09:41:26.311055Z",
     "start_time": "2023-08-16T09:41:26.311027Z"
    }
   },
   "outputs": [],
   "source": [
    "fig,ax=subplots(1,3,figsize=(20,6))\n",
    "bbins=(50,50)\n",
    "\n",
    "p0=ax[0].hist2d(P3/1e9,P1/1e6,bins=bbins,weights=W,rasterized=True,cmap=cm.magma);\n",
    "# colorbar(p0,ax=ax[0])\n",
    "\n",
    "p1=ax[1].hist2d(P3/1e9,P2/1e6,bins=bbins,weights=W,rasterized=True,cmap=cm.magma);\n",
    "# colorbar(p1,ax=ax[1])\n",
    "\n",
    "p2=ax[2].hist2d(P1/1e6,P2/1e6,bins=bbins,weights=W,rasterized=True,cmap=cm.magma);\n",
    "# colorbar(p2,ax=ax[2])\n",
    "\n",
    "\n",
    "ax[0].set_xlabel(r'electron $p_z$ (GeV)')\n",
    "ax[1].set_xlabel(r'electron $p_z$ (GeV)')\n",
    "ax[2].set_xlabel(r'electron $p_x$ (MeV)')\n",
    "\n",
    "ax[0].set_ylabel(r'electron $p_x$ (MeV)')\n",
    "ax[1].set_ylabel(r'electron $p_y$ (MeV)')\n",
    "ax[2].set_ylabel(r'electron $p_y$ (MeV)')\n",
    "\n",
    "\n",
    "savefig(f'electrons_final_momentum_{input_filename}.pdf')\n"
   ]
  },
  {
   "cell_type": "code",
   "execution_count": null,
   "metadata": {
    "ExecuteTime": {
     "end_time": "2023-08-16T09:41:26.313344Z",
     "start_time": "2023-08-16T09:41:26.313300Z"
    }
   },
   "outputs": [],
   "source": [
    "theta_ex = P1/P3\n",
    "theta_ey = P2/P3\n",
    "theta_e  = sqrt(theta_ex**2+theta_ey**2)\n",
    "\n",
    "bbins=(linspace(7.5,11.5,50),linspace(0,50,50))\n",
    "\n",
    "fig,ax=subplots(1,1,figsize=(10,6))\n",
    "\n",
    "hist2d( P0/1e9 , theta_e*1e6 , bins=bbins , weights=W/theta_e );\n",
    "\n",
    "xlabel(r'electron energy $E$ (GeV)')\n",
    "ylabel(r'electron angle $\\theta$ ($\\mu$rad)');\n",
    "\n",
    "savefig(f'electrons_final_energy_angle_{input_filename}.pdf')\n"
   ]
  },
  {
   "cell_type": "code",
   "execution_count": null,
   "metadata": {
    "ExecuteTime": {
     "end_time": "2023-08-16T09:41:26.315076Z",
     "start_time": "2023-08-16T09:41:26.315051Z"
    }
   },
   "outputs": [],
   "source": [
    "fig,ax=subplots(1,1,figsize=(10,6))\n",
    "bbins=(50,50)\n",
    "\n",
    "p0=ax.hist(P3/1e9,bins=70,weights=W);\n",
    "p0=ax.hist(P0/1e9,bins=70,weights=W,alpha=0.5);\n",
    "xlabel(r'electron energy $E$ (GeV)')\n",
    "\n",
    "savefig(f'electrons_final_energy_{input_filename}.pdf')\n"
   ]
  },
  {
   "cell_type": "code",
   "execution_count": null,
   "metadata": {
    "ExecuteTime": {
     "end_time": "2023-08-16T09:41:26.317013Z",
     "start_time": "2023-08-16T09:41:26.316992Z"
    }
   },
   "outputs": [],
   "source": [
    "theta_ex = P1/P3\n",
    "theta_ey = P2/P3\n",
    "theta_e  = sqrt(theta_ex**2+theta_ey**2)\n",
    "\n",
    "bbins=(linspace(16.4,16.6,50),linspace(-0.5,0.5,50))\n",
    "\n",
    "fig,ax=subplots(1,1,figsize=(10,6))\n",
    "\n",
    "hist2d( (P3+K3)/1e9 , (P1+K1)/1e6 , bins=bbins );\n",
    "xlabel(r'initial electron beam $p_z$')\n",
    "ylabel(r'initial electron beam $p_x$')\n",
    "\n",
    "\n"
   ]
  },
  {
   "cell_type": "code",
   "execution_count": null,
   "metadata": {
    "ExecuteTime": {
     "end_time": "2023-08-16T09:41:26.318313Z",
     "start_time": "2023-08-16T09:41:26.318291Z"
    }
   },
   "outputs": [],
   "source": [
    "theta_x = K1/K3\n",
    "theta_y = K2/K3\n",
    "theta_e  = sqrt(theta_ex**2+theta_ey**2)\n",
    "\n",
    "bbins=(100,100)#(linspace(16.4,16.6,50),linspace(-0.5,0.5,50))\n",
    "\n",
    "fig,ax=subplots(1,1,figsize=(10,6))\n",
    "\n",
    "hist2d( theta_x , theta_y , bins=bbins );\n",
    "\n"
   ]
  },
  {
   "cell_type": "code",
   "execution_count": null,
   "metadata": {
    "ExecuteTime": {
     "end_time": "2023-08-16T09:41:26.319855Z",
     "start_time": "2023-08-16T09:41:26.319819Z"
    }
   },
   "outputs": [],
   "source": [
    "omega0 = 4.1\n",
    "gamma0 = 32289.62818003914\n",
    "\n",
    "omega = 2*gamma0*omega0\n",
    "elec_mass = 511000.\n",
    "\n",
    "\n",
    "omega1 = omega/(1+2*omega/elec_mass)"
   ]
  },
  {
   "cell_type": "code",
   "execution_count": null,
   "metadata": {},
   "outputs": [],
   "source": []
  },
  {
   "cell_type": "code",
   "execution_count": null,
   "metadata": {},
   "outputs": [],
   "source": []
  },
  {
   "cell_type": "code",
   "execution_count": null,
   "metadata": {},
   "outputs": [],
   "source": []
  },
  {
   "cell_type": "code",
   "execution_count": null,
   "metadata": {},
   "outputs": [],
   "source": []
  },
  {
   "cell_type": "code",
   "execution_count": null,
   "metadata": {},
   "outputs": [],
   "source": []
  },
  {
   "cell_type": "code",
   "execution_count": null,
   "metadata": {},
   "outputs": [],
   "source": []
  },
  {
   "cell_type": "code",
   "execution_count": null,
   "metadata": {},
   "outputs": [],
   "source": []
  },
  {
   "cell_type": "code",
   "execution_count": null,
   "metadata": {},
   "outputs": [],
   "source": []
  },
  {
   "cell_type": "code",
   "execution_count": null,
   "metadata": {},
   "outputs": [],
   "source": []
  }
 ],
 "metadata": {
  "hide_input": false,
  "kernelspec": {
   "display_name": "luxeics",
   "language": "python",
   "name": "luxeics"
  },
  "language_info": {
   "codemirror_mode": {
    "name": "ipython",
    "version": 3
   },
   "file_extension": ".py",
   "mimetype": "text/x-python",
   "name": "python",
   "nbconvert_exporter": "python",
   "pygments_lexer": "ipython3",
   "version": "3.10.12"
  }
 },
 "nbformat": 4,
 "nbformat_minor": 4
}
