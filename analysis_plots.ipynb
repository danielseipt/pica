{
 "cells": [
  {
   "cell_type": "code",
   "execution_count": 1,
   "metadata": {
    "ExecuteTime": {
     "end_time": "2023-08-15T14:10:55.382821Z",
     "start_time": "2023-08-15T14:10:53.733548Z"
    }
   },
   "outputs": [
    {
     "name": "stdout",
     "output_type": "stream",
     "text": [
      "%pylab is deprecated, use %matplotlib inline and import the required libraries.\n",
      "Populating the interactive namespace from numpy and matplotlib\n"
     ]
    }
   ],
   "source": [
    "%pylab inline"
   ]
  },
  {
   "cell_type": "code",
   "execution_count": 2,
   "metadata": {
    "ExecuteTime": {
     "end_time": "2023-08-15T14:10:55.870041Z",
     "start_time": "2023-08-15T14:10:55.386925Z"
    }
   },
   "outputs": [],
   "source": [
    "import yaml\n",
    "import h5py\n",
    "import numpy as np\n",
    "\n",
    "import luxeics"
   ]
  },
  {
   "cell_type": "code",
   "execution_count": null,
   "metadata": {
    "ExecuteTime": {
     "end_time": "2023-08-14T14:49:28.344413Z",
     "start_time": "2023-08-14T14:49:28.199827Z"
    }
   },
   "outputs": [],
   "source": []
  },
  {
   "cell_type": "code",
   "execution_count": 3,
   "metadata": {
    "ExecuteTime": {
     "end_time": "2023-08-15T14:10:55.884948Z",
     "start_time": "2023-08-15T14:10:55.872599Z"
    },
    "scrolled": false
   },
   "outputs": [
    {
     "name": "stdout",
     "output_type": "stream",
     "text": [
      "{'control': {'sampling': 'rejection', 'xsection': 'Full', 'beam': {'sample_electrons': '1e8', 'sample_batch_size': '1e7'}, 'laser': {'sigma_rescale': False, 'sigma_crit': 50.0}, 'detector': {'a0_freq_correction': True}}, 'beam': {'gamma': 32289.62818003914, 'energyspread': '1e-3', 'emittanceX': 1.5, 'emittanceY': 1.5, 'sigmaX': 25.0, 'sigmaY': 25.0, 'sigmaL': 20.0, 'beam_charge': '100e-12', 'beam_focus_z': 0, 'baseline': '7.5e6'}, 'laser': {'a0': 0.1, 'omega0': 4.1, 'Tpulse': 100.0, 'pulse': 'cos2', 'w0': 25.0, 'polangle': 0.0, 'poldegree': 1.0}, 'detector': {'pdim': 3, 'omega': ['5.0e9', '9.2e9'], 'theta': [0, '15e-6'], 'phi': [0.0, 6.283185307179586]}}\n"
     ]
    }
   ],
   "source": [
    "# input_filename = 'pencil_beam'\n",
    "# input_filename = 'small_beam'\n",
    "input_filename = 'large_beam'\n",
    "# input_filename = 'weird_beam'\n",
    "\n",
    "with open( input_filename + '.yml', 'r' ) as stream:\n",
    "    input_dict = yaml.load(stream, Loader=yaml.SafeLoader)\n",
    "\n",
    "print (input_dict)"
   ]
  },
  {
   "cell_type": "code",
   "execution_count": null,
   "metadata": {
    "ExecuteTime": {
     "start_time": "2023-08-15T14:10:53.736Z"
    },
    "scrolled": false
   },
   "outputs": [
    {
     "name": "stdout",
     "output_type": "stream",
     "text": [
      "n_batches=10, remainder=0, number_of_particles=1e+08=1e+08\n",
      " >> number_electrons   = 624150947\n",
      " >> sample_electrons   = 100000000\n",
      " >> electron weight    = 6.242\n",
      "0 10000000\n",
      "  > batch 000: 1e+07 macroelectrons of weight 6.2415\n"
     ]
    }
   ],
   "source": [
    "SIM = luxeics.ICSSimulation( input_filename )\n",
    "SIM.run()\n",
    "\n",
    "print (dir(SIM))"
   ]
  },
  {
   "cell_type": "code",
   "execution_count": null,
   "metadata": {
    "ExecuteTime": {
     "start_time": "2023-08-15T14:10:53.737Z"
    }
   },
   "outputs": [],
   "source": [
    "# input_filename = 'small_beam_full'\n",
    "\n",
    "with h5py.File(input_filename + '.h5' ,'r') as ff:\n",
    "#     omega      = ff['final-state/spectrum/omega'][:]/1e9\n",
    "#     theta      = ff['final-state/spectrum/theta'][:]*1e6\n",
    "#     spectrum   = ff['final-state/spectrum/spectrum'][:]\n",
    "\n",
    "    K0,K1,K2,K3       = ff['final-state/photon/momentum'][:].T\n",
    "    X0,X1,X2,X3       = ff['final-state/photon/position'][:].T\n",
    "    W                 = ff['final-state/photon/weight'  ][:]\n",
    "    Stokes1,_,Stokes3 = ff['final-state/photon/Stokes'  ][:].T\n",
    "\n",
    "    P0,P1,P2,P3  = ff['final-state/electron/momentum'][:].T\n",
    "#     X0,X1,X2,X3  = ff['final-state/photon/position'][:].T\n",
    "#     We            = ff['final-state/photon/weight'  ][:]\n"
   ]
  },
  {
   "cell_type": "code",
   "execution_count": null,
   "metadata": {
    "ExecuteTime": {
     "end_time": "2023-08-04T13:11:11.569959Z",
     "start_time": "2023-08-04T13:11:11.322341Z"
    }
   },
   "outputs": [],
   "source": []
  },
  {
   "cell_type": "code",
   "execution_count": null,
   "metadata": {
    "ExecuteTime": {
     "start_time": "2023-08-15T14:10:53.738Z"
    }
   },
   "outputs": [],
   "source": [
    "with open( input_filename + '.yml', 'r' ) as stream:\n",
    "    input_dict = yaml.load(stream, Loader=yaml.SafeLoader)\n",
    "    \n",
    "#     mode             = input_dict['control']['mode']\n",
    "    \n",
    "    \n",
    "    beam_charge      = float( input_dict['beam']['beam_charge'])\n",
    "    number_electrons = int( beam_charge / 1.60217653e-19)\n",
    "\n",
    "    sampling         = input_dict['control']['sampling']\n",
    "#     sampling = mode\n",
    "    \n",
    "    w0               = float(input_dict['laser']['w0'])\n"
   ]
  },
  {
   "cell_type": "code",
   "execution_count": null,
   "metadata": {
    "ExecuteTime": {
     "start_time": "2023-08-15T14:10:53.740Z"
    },
    "scrolled": true
   },
   "outputs": [],
   "source": [
    "print (f'beam charge                              : {beam_charge*1e12:.24} pC')\n",
    "print (f'number of beam electrons                 : {number_electrons:.4e}')\n",
    "print ('-'*42)\n",
    "print (f'{sampling} sampling:')\n",
    "print (f'max  single photon weight                : {amax(W):.4g}')\n",
    "print (f'mean single photon weight                : {mean(W):.4g}')\n",
    "print (f'total photon weight                      : {sum(W):.4g}')\n",
    "print (f'total photon weight per incident electron: {sum(W)/number_electrons:.4g}')\n",
    "print (f'total macro photon number                : {len(W)}')\n",
    "print ('-'*42)\n"
   ]
  },
  {
   "cell_type": "code",
   "execution_count": null,
   "metadata": {
    "ExecuteTime": {
     "start_time": "2023-08-15T14:10:53.741Z"
    }
   },
   "outputs": [],
   "source": [
    "# beam charge                              : 100.0 pC\n",
    "# number of beam electrons                 : 6.2415e+08\n",
    "# ------------------------------------------\n",
    "# mode: full\n",
    "# rejection sampling:\n",
    "# max  single photon weight                : 17.07\n",
    "# mean single photon weight                : 17.07\n",
    "# total photon weight                      : 2.459e+06\n",
    "# total photon weight per incident electron: 0.00394\n",
    "# total macro photon number                : 144065\n",
    "# ------------------------------------------\n",
    "# mode: simple\n",
    "# rejection sampling:\n",
    "# max  single photon weight                : 7.483\n",
    "# mean single photon weight                : 7.483\n",
    "# total photon weight                      : 2.475e+06\n",
    "# total photon weight per incident electron: 0.003965\n",
    "# total macro photon number                : 330724\n",
    "# ------------------------------------------"
   ]
  },
  {
   "cell_type": "code",
   "execution_count": null,
   "metadata": {
    "ExecuteTime": {
     "start_time": "2023-08-15T14:10:53.742Z"
    }
   },
   "outputs": [],
   "source": [
    "# figure(figsize=(10,6))\n",
    "# pcolormesh(omega.ravel(),theta.ravel(),spectrum.T,rasterized=True,cmap=cm.magma)\n",
    "# xlim(6,9)\n",
    "# ylim(0,15)\n",
    "# colorbar(label='spectrum')\n",
    "\n",
    "# xlabel(r'$\\omega$ (GeV)')\n",
    "# ylabel(r'$\\theta$ ($\\mu$rad)')\n",
    "\n",
    "# savefig('spectrum.pdf')"
   ]
  },
  {
   "cell_type": "code",
   "execution_count": null,
   "metadata": {
    "ExecuteTime": {
     "start_time": "2023-08-15T14:10:53.743Z"
    }
   },
   "outputs": [],
   "source": [
    "figure(figsize=(10,6))\n",
    "\n",
    "subplot(111,aspect=1)\n",
    "hist2d(K1/1e6,K2/1e6,bins=(51,51),weights=W*Stokes3,rasterized=True,cmap=cm.PiYG);\n",
    "colorbar()\n",
    "\n",
    "xlabel(r'$k_x$ (MeV)')\n",
    "ylabel(r'$k_y$ (MeV)')\n",
    "\n",
    "\n",
    "savefig(f'photon_transverse_momentum_Stokes3_{input_filename}.pdf')\n"
   ]
  },
  {
   "cell_type": "code",
   "execution_count": null,
   "metadata": {
    "ExecuteTime": {
     "start_time": "2023-08-15T14:10:53.744Z"
    }
   },
   "outputs": [],
   "source": [
    "figure(figsize=(10,6))\n",
    "\n",
    "subplot(111,aspect=1)\n",
    "hist2d(K1/1e6,K2/1e6,bins=(51,51),weights=W*Stokes1,rasterized=True,cmap=cm.PiYG);\n",
    "colorbar()\n",
    "\n",
    "xlabel(r'$k_x$ (MeV)')\n",
    "ylabel(r'$k_y$ (MeV)')\n",
    "\n",
    "\n",
    "savefig(f'photon_transverse_momentum_Stokes1_{input_filename}.pdf')\n"
   ]
  },
  {
   "cell_type": "code",
   "execution_count": null,
   "metadata": {
    "ExecuteTime": {
     "start_time": "2023-08-15T14:10:53.746Z"
    }
   },
   "outputs": [],
   "source": [
    "phi =  arctan2(K2,K1)\n",
    "\n",
    "# rotated Stokes parameters\n",
    "Stokes_rot3 = cos(2*phi) * Stokes3 - sin(2*phi) * Stokes1\n",
    "Stokes_rot1 = sin(2*phi) * Stokes3 + cos(2*phi) * Stokes1\n",
    "\n",
    "\n",
    "fig, ax = subplots(ncols=2,nrows=1,figsize=(14,6))\n",
    "\n",
    "for axj in ax:\n",
    "    axj.set_aspect(1)\n",
    "    \n",
    "H1=histogram2d(K1/1e6,K2/1e6,bins=(51,52),weights=W*Stokes_rot1);\n",
    "p=ax[0].pcolormesh(H1[1],H1[2],H1[0].T,rasterized=True,cmap=cm.RdBu)\n",
    "plt.colorbar(p,ax=ax[0])\n",
    "ax[0].set_title('rotated S1 in lab frame')\n",
    "\n",
    "H2=histogram2d(K1/1e6,K2/1e6,bins=(51,52),weights=W*Stokes_rot3);\n",
    "p=ax[1].pcolormesh(H2[1],H2[2],H2[0].T,rasterized=True,cmap=cm.RdBu, vmin=-700,vmax=700)\n",
    "plt.colorbar(p,ax=ax[1])\n",
    "ax[1].set_title('rotated S3 in lab frame')\n",
    "\n",
    "savefig('StokesParameters_rotated_labframe_{input_filename}.pdf')"
   ]
  },
  {
   "cell_type": "code",
   "execution_count": null,
   "metadata": {
    "ExecuteTime": {
     "start_time": "2023-08-15T14:10:53.748Z"
    }
   },
   "outputs": [],
   "source": [
    "PolDegree = np.sqrt(Stokes1**2 + Stokes3**2 )\n",
    "\n",
    "n         = K1 < 0\n",
    "\n",
    "TiltAngle     = 0.5*np.arctan2(Stokes1,Stokes3) -  n *pi\n",
    "TiltAngle_rot = 0.5*np.arctan2(Stokes_rot1,Stokes_rot3) #-  n *pi\n",
    "\n",
    "phi =  arctan2(K2,K1)\n",
    "\n",
    "# figure(figsize=(10,6))\n",
    "\n",
    "bbins = (54,52)\n",
    "\n",
    "# subplot(111,aspect=1)\n",
    "values_w_s, xedge, yedge = histogram2d(K1/1e6,K2/1e6,bins=bbins,weights=W*PolDegree )\n",
    "values_w  , xedge, yedge = histogram2d(K1/1e6,K2/1e6,bins=bbins,weights=W           )\n",
    "values_w_tilt, xedge, yedge = histogram2d(K1/1e6,K2/1e6,bins=bbins,weights=W*TiltAngle_rot )\n",
    "values_w_phi , xedge, yedge = histogram2d(K1/1e6,K2/1e6,bins=bbins,weights=W*phi )\n",
    "\n",
    "# print (histogram2d(K1/1e6,K2/1e6,bins=(51,51),weights=W*PolDegree))\n",
    "\n",
    "fig,ax = subplots(1,2,figsize=(14,5))\n",
    "p=ax[0].pcolormesh( xedge, yedge, (values_w_s / values_w).T ,rasterized=True,cmap=cm.plasma);\n",
    "colorbar(p,ax=ax[0])\n",
    "\n",
    "\n",
    "tilt_angle_in_lab_rot = values_w_tilt / values_w\n",
    "\n",
    "tilt_angle_in_lab = (values_w_tilt + values_w_phi) / values_w\n",
    "\n",
    "renormalized_tilt_angle0  = nan_to_num(tilt_angle_in_lab )\n",
    "\n",
    "renormalized_tilt_angle = (( renormalized_tilt_angle0 + pi )%(2*pi) -pi)\n",
    "\n",
    "print (amax(renormalized_tilt_angle),amin(renormalized_tilt_angle))\n",
    "\n",
    "# p=ax[1].pcolormesh( xedge, yedge, tilt_angle_in_lab_rot.T ,rasterized=True,cmap=cm.PuOr, vmin=-0.2,vmax=0.2);\n",
    "p=ax[1].pcolormesh( xedge, yedge, 1000*tilt_angle_in_lab_rot.T ,rasterized=True,cmap=cm.PuOr, vmin=-150,vmax=150);\n",
    "colorbar(p,ax=ax[1], label='tilt angle (mrad)')\n",
    "\n",
    "\n",
    "for axj in ax:\n",
    "    axj.set_aspect(1)\n",
    "    axj.set_xlabel(r'$k_x$ (MeV)')\n",
    "    axj.set_ylabel(r'$k_y$ (MeV)')\n",
    "\n",
    "ax[0].set_title(r'polarization degree')\n",
    "ax[1].set_title(r'polarization tilt angle (w.r.t. incident polarization)')\n",
    "\n",
    "savefig(f'polarization_state_{input_filename}.pdf')\n"
   ]
  },
  {
   "cell_type": "code",
   "execution_count": null,
   "metadata": {
    "ExecuteTime": {
     "start_time": "2023-08-15T14:10:53.749Z"
    }
   },
   "outputs": [],
   "source": [
    "figure(figsize=(10,6))\n",
    "\n",
    "subplot(111,aspect=1)\n",
    "hist2d(K1/1e6,K2/1e6,bins=(50,50),weights=W,rasterized=True,cmap=cm.magma);\n",
    "colorbar()\n",
    "title(f'{sampling} sampling')\n",
    "\n",
    "xlabel(r'$k_x$ (MeV)')\n",
    "ylabel(r'$k_y$ (MeV)')\n",
    "\n",
    "\n",
    "savefig(f'photon_transverse_momentum_{input_filename}.pdf')"
   ]
  },
  {
   "cell_type": "code",
   "execution_count": null,
   "metadata": {
    "ExecuteTime": {
     "start_time": "2023-08-15T14:10:53.750Z"
    }
   },
   "outputs": [],
   "source": [
    "figure(figsize=(10,6))\n",
    "\n",
    "subplot(111,aspect=1)\n",
    "hist2d(K1/K3*1e6,K2/K3*1e6,bins=(50,50),weights=W,rasterized=True,cmap=cm.magma);\n",
    "colorbar()\n",
    "title(f'{sampling} sampling')\n",
    "\n",
    "xlabel(r'$\\theta_x$ (urad)')\n",
    "ylabel(r'$\\theta_y$ (urad)')\n",
    "\n",
    "\n",
    "savefig(f'photon_transverse_angles_{input_filename}.pdf')"
   ]
  },
  {
   "cell_type": "code",
   "execution_count": null,
   "metadata": {
    "ExecuteTime": {
     "start_time": "2023-08-15T14:10:53.752Z"
    }
   },
   "outputs": [],
   "source": [
    "figure(figsize=(10,6))\n",
    "\n",
    "bbins=(linspace(-2*w0,2*w0,50),linspace(-2*w0,2*w0,50))\n",
    "\n",
    "subplot(111,aspect=1)\n",
    "hist2d(X1,X2,bins=bbins,weights=W,rasterized=True,cmap=cm.magma);\n",
    "colorbar()\n",
    "\n",
    "xlabel(r'$x@$source (micron)')\n",
    "ylabel(r'$y@$source (micron)')\n",
    "title(f'{sampling} sampling')\n",
    "\n",
    "xlim(-2*w0,2*w0)\n",
    "ylim(-2*w0,2*w0)\n",
    "\n",
    "\n",
    "savefig(f'photon_source_size_{input_filename}.pdf')\n"
   ]
  },
  {
   "cell_type": "code",
   "execution_count": null,
   "metadata": {
    "ExecuteTime": {
     "start_time": "2023-08-15T14:10:53.753Z"
    }
   },
   "outputs": [],
   "source": [
    "figure(figsize=(10,6))\n",
    "bbins=(linspace(-75,75,50),linspace(-2*w0,2*w0,50))\n",
    "\n",
    "subplot(111)\n",
    "hist2d(X0-X3,X1,bins=bbins,weights=W ,rasterized=True,cmap=cm.magma);\n",
    "colorbar()\n",
    "\n",
    "xlabel(r'$t-z@$source (micron)')\n",
    "ylabel(r'$x@$source (micron)')\n",
    "title(f'{sampling} sampling')\n",
    "\n",
    "\n",
    "\n",
    "savefig(f'photon_source_length_{input_filename}.pdf')\n"
   ]
  },
  {
   "cell_type": "code",
   "execution_count": null,
   "metadata": {
    "ExecuteTime": {
     "start_time": "2023-08-15T14:10:53.754Z"
    }
   },
   "outputs": [],
   "source": [
    "figure(figsize=(10,6))\n",
    "bbins=(50,50)\n",
    "\n",
    "subplot(111)\n",
    "hist2d(X0-X3,X0+X3,bins=bbins,weights=W ,rasterized=True,cmap=cm.magma);\n",
    "colorbar()\n",
    "\n",
    "xlabel(r'$t-z@$source (micron)')\n",
    "ylabel(r'$t+z@$source (micron)')\n",
    "title(f'{sampling} sampling')\n",
    "\n",
    "\n",
    "\n",
    "savefig(f'photon_source_lightfront_{input_filename}.pdf')\n"
   ]
  },
  {
   "cell_type": "code",
   "execution_count": null,
   "metadata": {
    "ExecuteTime": {
     "start_time": "2023-08-15T14:10:53.755Z"
    }
   },
   "outputs": [],
   "source": [
    "figure(figsize=(10,6))\n",
    "\n",
    "bbins=(55,55)#(linspace(6,9,50),linspace(0,15,50))\n",
    "\n",
    "subplot(111)\n",
    "hist2d(K0/1e9,sqrt(K1**2+K2**2)/K3*1e6,bins=bbins,weights=W/sqrt(K1**2+K2**2),rasterized=True,cmap=cm.magma);\n",
    "colorbar()\n",
    "xlabel(r'$\\omega$ (GeV)')\n",
    "ylabel(r'$\\theta$ ($\\mu$rad)');\n",
    "title(rf'{sampling} sampling')\n",
    "\n",
    "\n",
    "savefig(f'photon_angular_spectrum_{input_filename}.pdf')\n"
   ]
  },
  {
   "cell_type": "code",
   "execution_count": null,
   "metadata": {
    "ExecuteTime": {
     "start_time": "2023-08-15T14:10:53.756Z"
    }
   },
   "outputs": [],
   "source": [
    "figure(figsize=(10,6))\n",
    "\n",
    "bbins=(linspace(6,9,50),linspace(0,50,50))\n",
    "\n",
    "subplot(111)\n",
    "hist2d(K0/1e9,sqrt(X1**2+X2**2),bins=bbins,weights=W/sqrt(X1**2+X2**2),rasterized=True,cmap=cm.magma);\n",
    "colorbar()\n",
    "xlabel(r'$\\omega$ (GeV)')\n",
    "ylabel(r'$r$ ($\\mu$m)');\n",
    "title(rf'{sampling} sampling')\n",
    "ylim(0,w0)\n",
    "\n",
    "savefig(f'photon_transverse_spectrum_{input_filename}.pdf')\n"
   ]
  },
  {
   "cell_type": "code",
   "execution_count": null,
   "metadata": {
    "ExecuteTime": {
     "start_time": "2023-08-15T14:10:53.757Z"
    }
   },
   "outputs": [],
   "source": [
    "thetax=K1/K3\n",
    "thetay=K2/K3\n",
    "\n",
    "baseline = 7.5e6 \n",
    "\n",
    "xoffset = thetax * baseline\n",
    "yoffset = thetay * baseline"
   ]
  },
  {
   "cell_type": "code",
   "execution_count": null,
   "metadata": {
    "ExecuteTime": {
     "start_time": "2023-08-15T14:10:53.758Z"
    }
   },
   "outputs": [],
   "source": [
    "spotsize = 10 # micron\n",
    "\n",
    "\n",
    "figure(figsize=(14,6))\n",
    "\n",
    "ax1=subplot(121,aspect=1)\n",
    "scatter(xoffset, yoffset, color='r',marker='.',lw=0,s=W);\n",
    "xlim(-2*spotsize,2*spotsize)\n",
    "ylim(-2*spotsize,2*spotsize)\n",
    "xlabel(r'$x$ (micron)')\n",
    "ylabel(r'$y$ (micron)');\n",
    "title('zero source size')\n",
    "\n",
    "\n",
    "ax2=subplot(122,aspect=1)\n",
    "\n",
    "# plot(X1+xoffset, X2+yoffset, color='m', marker=',',lw=0);\n",
    "scatter(X1+xoffset, X2+yoffset, color='m', marker='.',lw=0,s=W);\n",
    "\n",
    "xlim(-2*spotsize,2*spotsize)\n",
    "ylim(-2*spotsize,2*spotsize)\n",
    "\n",
    "xlabel(r'$x$ (micron)')\n",
    "ylabel(r'$y$ (micron)');\n",
    "title('finite source size')\n",
    "\n",
    "ax1.add_patch(Circle((0,0),spotsize,color='C0',fill=False))\n",
    "ax2.add_patch(Circle((0,0),spotsize,color='C0',fill=False))\n",
    "\n",
    "\n",
    "suptitle(f'{sampling} sampling')\n",
    "\n",
    "savefig(f'photons_at_focus_{input_filename}.png',dpi=200)\n",
    "\n"
   ]
  },
  {
   "cell_type": "code",
   "execution_count": null,
   "metadata": {
    "ExecuteTime": {
     "start_time": "2023-08-15T14:10:53.759Z"
    }
   },
   "outputs": [],
   "source": [
    "spotsize = 10 # micron\n",
    "\n",
    "\n",
    "figure(figsize=(14,6))\n",
    "\n",
    "ax1=subplot(121,aspect=1)\n",
    "scatter(X1+xoffset, X2+yoffset, c=Stokes1, marker='s',lw=0,s=50,vmin=-1,vmax=1,cmap=cm.PuOr);\n",
    "colorbar()\n",
    "xlim(-spotsize,spotsize)\n",
    "ylim(-spotsize,spotsize)\n",
    "xlabel(r'$x$ (micron)')\n",
    "ylabel(r'$y$ (micron)');\n",
    "title('Stokes 1')\n",
    "\n",
    "\n",
    "ax2=subplot(122,aspect=1)\n",
    "\n",
    "# plot(X1+xoffset, X2+yoffset, color='m', marker=',',lw=0);\n",
    "scatter(X1+xoffset, X2+yoffset, c=Stokes3, marker='s',lw=0,s=50,vmin=-1,vmax=1,cmap=cm.PuOr);\n",
    "colorbar()\n",
    "\n",
    "xlim(-spotsize,spotsize)\n",
    "ylim(-spotsize,spotsize)\n",
    "\n",
    "xlabel(r'$x$ (micron)')\n",
    "ylabel(r'$y$ (micron)');\n",
    "title('Stokes 3')\n",
    "\n",
    "ax1.add_patch(Circle((0,0),spotsize,color='0.5',fill=False))\n",
    "ax2.add_patch(Circle((0,0),spotsize,color='0.5',fill=False))\n",
    "\n",
    "\n",
    "suptitle(f'{sampling} sampling')\n",
    "\n",
    "savefig(f'photons_at_focus_StokesParameters_{input_filename}.png',dpi=200)\n",
    "\n"
   ]
  },
  {
   "cell_type": "code",
   "execution_count": null,
   "metadata": {
    "ExecuteTime": {
     "start_time": "2023-08-15T14:10:53.761Z"
    }
   },
   "outputs": [],
   "source": [
    "spotsize = 10 # micron\n",
    "\n",
    "phi = arctan2(K2,K1)\n",
    "# rotated Stokes parameters\n",
    "Stokes_rot3 = cos(2*phi) * Stokes3 - sin(2*phi) * Stokes1\n",
    "Stokes_rot1 = sin(2*phi) * Stokes3 + cos(2*phi) * Stokes1\n",
    "\n",
    "\n",
    "\n",
    "figure(figsize=(18,4))\n",
    "\n",
    "ax1=subplot(131,aspect=1)\n",
    "scatter(X1+xoffset, X2+yoffset, c=sqrt(Stokes1**2 + Stokes3**2), marker='s',lw=0,s=20,cmap=cm.jet);\n",
    "colorbar()\n",
    "xlim(-spotsize,spotsize)\n",
    "ylim(-spotsize,spotsize)\n",
    "xlabel(r'$x$ (micron)')\n",
    "ylabel(r'$y$ (micron)');\n",
    "title('Polarization degree')\n",
    "\n",
    "\n",
    "ax2=subplot(132,aspect=1)\n",
    "\n",
    "title('Stokes parameter S1 in lab frame')\n",
    "\n",
    "scatter(X1+xoffset, X2+yoffset, c=Stokes_rot1, marker='s',s=20,vmin=-1,vmax=1,cmap=cm.jet);\n",
    "colorbar()\n",
    "xlim(-spotsize,spotsize)\n",
    "ylim(-spotsize,spotsize)\n",
    "xlabel(r'$x$ (micron)')\n",
    "ylabel(r'$y$ (micron)');\n",
    "\n",
    "ax3=subplot(133,aspect=1)\n",
    "\n",
    "title('Stokes parameter S3 in lab frame')\n",
    "\n",
    "scatter(X1+xoffset, X2+yoffset, c=Stokes_rot3, marker='s',s=20,vmin=-1,vmax=1,cmap=cm.jet);\n",
    "colorbar()\n",
    "xlim(-spotsize,spotsize)\n",
    "ylim(-spotsize,spotsize)\n",
    "xlabel(r'$x$ (micron)')\n",
    "ylabel(r'$y$ (micron)');\n",
    "\n",
    "ax1.add_patch(Circle((0,0),spotsize,color='0.5',fill=False))\n",
    "ax2.add_patch(Circle((0,0),spotsize,color='0.5',fill=False))\n",
    "ax3.add_patch(Circle((0,0),spotsize,color='0.5',fill=False))\n",
    "\n",
    "\n",
    "# suptitle(f'{sampling} sampling')\n",
    "\n",
    "savefig(f'PolarizationDegree2_{input_filename}.png',dpi=200)\n",
    "\n"
   ]
  },
  {
   "cell_type": "code",
   "execution_count": null,
   "metadata": {
    "ExecuteTime": {
     "start_time": "2023-08-15T14:10:53.762Z"
    }
   },
   "outputs": [],
   "source": [
    "spotsize = 10 # micron\n",
    "\n",
    "phi = arctan2(K2,K1)\n",
    "# rotated Stokes parameters\n",
    "Stokes_rot3 = cos(2*phi) * Stokes3 - sin(2*phi) * Stokes1\n",
    "Stokes_rot1 = sin(2*phi) * Stokes3 + cos(2*phi) * Stokes1\n",
    "\n",
    "\n",
    "\n",
    "figure(figsize=(18,4))\n",
    "\n",
    "ax1=subplot(131)\n",
    "scatter(K0/1e9, 1e6* sqrt(K1**2+K2**2)/K3, c=sqrt(Stokes1**2 + Stokes3**2), marker='s',lw=0,s=20,cmap=cm.jet);\n",
    "colorbar()\n",
    "# xlim(-spotsize,spotsize)\n",
    "# ylim(-spotsize,spotsize)\n",
    "xlabel(r'$\\omega$ (GeV)')\n",
    "ylabel(r'$\\theta$ (urad)');\n",
    "title('Polarization degree')\n",
    "\n",
    "\n",
    "ax2=subplot(132)\n",
    "\n",
    "title('Stokes parameter S1 in lab frame')\n",
    "\n",
    "scatter(K0/1e9,  1e6*sqrt(K1**2+K2**2)/K3, c=Stokes_rot1, marker='s',s=20,vmin=-1,vmax=1,cmap=cm.PiYG);\n",
    "colorbar()\n",
    "# xlim(-spotsize,spotsize)\n",
    "# ylim(-spotsize,spotsize)\n",
    "xlabel(r'$\\omega$ (GeV)')\n",
    "ylabel(r'$\\theta$ (urad)');\n",
    "\n",
    "\n",
    "ax3=subplot(133)\n",
    "\n",
    "title('Stokes parameter S3 in lab frame')\n",
    "\n",
    "scatter(K0/1e9,  1e6*sqrt(K1**2+K2**2)/K3, c=Stokes_rot3, marker='s',s=20,vmin=-1,vmax=1,cmap=cm.PiYG);\n",
    "colorbar()\n",
    "# xlim(-spotsize,spotsize)\n",
    "# ylim(-spotsize,spotsize)\n",
    "xlabel(r'$\\omega$ (GeV)')\n",
    "ylabel(r'$\\theta$ (urad)');\n",
    "\n",
    "\n",
    "\n",
    "\n",
    "# suptitle(f'{sampling} sampling')\n",
    "\n",
    "savefig(f'PolarizationDegree_energyangle_scatter_{input_filename}.png',dpi=200)\n",
    "\n"
   ]
  },
  {
   "cell_type": "code",
   "execution_count": null,
   "metadata": {
    "ExecuteTime": {
     "start_time": "2023-08-15T14:10:53.763Z"
    }
   },
   "outputs": [],
   "source": [
    "spotsize = 10 # micron\n",
    "\n",
    "phi = arctan2(K2,K1)\n",
    "# rotated Stokes parameters\n",
    "Stokes_rot3 = cos(2*phi) * Stokes3 - sin(2*phi) * Stokes1\n",
    "Stokes_rot1 = sin(2*phi) * Stokes3 + cos(2*phi) * Stokes1\n",
    "PolDegree   = np.sqrt(Stokes1**2 + Stokes3**2)\n",
    "\n",
    "bbins = (54,52)\n",
    "\n",
    "# subplot(111,aspect=1)\n",
    "values_w_s, xedge, yedge = histogram2d(K0/1e9,1e6* np.sqrt(K1**2+K2**2)/K3,bins=bbins,weights=W*PolDegree )\n",
    "values_w  , xedge, yedge = histogram2d(K0/1e9,1e6* np.sqrt(K1**2+K2**2)/K3,bins=bbins,weights=W           )\n",
    "values_w_rot3, xedge, yedge = histogram2d(K0/1e9,1e6* np.sqrt(K1**2+K2**2)/K3,bins=bbins,weights=W*Stokes_rot3 )\n",
    "values_w_rot1 , xedge, yedge = histogram2d(K0/1e9,1e6* np.sqrt(K1**2+K2**2)/K3,bins=bbins,weights=W*Stokes_rot1 )\n",
    "\n",
    "\n",
    "\n",
    "figure(figsize=(18,4))\n",
    "\n",
    "ax1=subplot(131)\n",
    "pcolormesh(xedge, yedge , (values_w_s / values_w ).T , cmap=cm.jet, vmin=0,vmax=1);\n",
    "colorbar()\n",
    "xlabel(r'$\\omega$ (GeV)')\n",
    "ylabel(r'$\\theta$ (urad)');\n",
    "title('Polarization degree')\n",
    "\n",
    "\n",
    "ax2=subplot(132)\n",
    "title('Stokes parameter S1 in lab frame')\n",
    "\n",
    "pcolormesh(xedge, yedge, (values_w_rot1/values_w).T, rasterized=True,vmin=-1,vmax=1,cmap=cm.PiYG);\n",
    "colorbar()\n",
    "xlabel(r'$\\omega$ (GeV)')\n",
    "ylabel(r'$\\theta$ (urad)');\n",
    "\n",
    "\n",
    "ax3=subplot(133)\n",
    "\n",
    "title('Stokes parameter S3 in lab frame')\n",
    "\n",
    "pcolormesh(xedge, yedge, (values_w_rot3/values_w).T, rasterized=True,vmin=-1,vmax=1,cmap=cm.PiYG);\n",
    "colorbar()\n",
    "xlabel(r'$\\omega$ (GeV)')\n",
    "ylabel(r'$\\theta$ (urad)');\n",
    "\n",
    "\n",
    "\n",
    "\n",
    "# suptitle(f'{sampling} sampling')\n",
    "\n",
    "savefig(f'PolarizationDegree_energyangle_histogram_{input_filename}.png',dpi=200)\n",
    "\n"
   ]
  },
  {
   "cell_type": "code",
   "execution_count": null,
   "metadata": {
    "ExecuteTime": {
     "start_time": "2023-08-15T14:10:53.764Z"
    }
   },
   "outputs": [],
   "source": [
    "spotsize = 10 # micron\n",
    "\n",
    "phi = arctan2(K2,K1)\n",
    "# rotated Stokes parameters\n",
    "Stokes_rot3 = cos(2*phi) * Stokes3 - sin(2*phi) * Stokes1\n",
    "Stokes_rot1 = sin(2*phi) * Stokes3 + cos(2*phi) * Stokes1\n",
    "PolDegree   = np.sqrt(Stokes1**2 + Stokes3**2)\n",
    "\n",
    "bbins = (54,52)\n",
    "\n",
    "# subplot(111,aspect=1)\n",
    "values_w_s, xedge, yedge = histogram2d(K0/1e9,1e6* np.sqrt(K1**2+K2**2)/K3,bins=bbins,weights=W*PolDegree )\n",
    "values_w  , xedge, yedge = histogram2d(K0/1e9,1e6* np.sqrt(K1**2+K2**2)/K3,bins=bbins,weights=W           )\n",
    "values_w_rot3, xedge, yedge = histogram2d(K0/1e9,1e6* np.sqrt(K1**2+K2**2)/K3,bins=bbins,weights=W*Stokes_rot3 )\n",
    "values_w_rot1 , xedge, yedge = histogram2d(K0/1e9,1e6* np.sqrt(K1**2+K2**2)/K3,bins=bbins,weights=W*Stokes_rot1 )\n",
    "\n",
    "\n",
    "\n",
    "figure(figsize=(18,4))\n",
    "\n",
    "ax1=subplot(131)\n",
    "pcolormesh(xedge, yedge , (values_w_s / values_w ).T , cmap=cm.jet, vmin=0,vmax=1);\n",
    "colorbar()\n",
    "xlabel(r'$\\omega$ (GeV)')\n",
    "ylabel(r'$\\theta$ (urad)');\n",
    "title('Polarization degree')\n",
    "\n",
    "\n",
    "ax2=subplot(132)\n",
    "title('Stokes parameter S1 in lab frame')\n",
    "\n",
    "pcolormesh(xedge, yedge, (values_w_rot1/values_w).T, rasterized=True,vmin=-1,vmax=1,cmap=cm.PiYG);\n",
    "colorbar()\n",
    "xlabel(r'$\\omega$ (GeV)')\n",
    "ylabel(r'$\\theta$ (urad)');\n",
    "\n",
    "\n",
    "ax3=subplot(133)\n",
    "\n",
    "title('Stokes parameter S3 in lab frame')\n",
    "\n",
    "pcolormesh(xedge, yedge, (values_w_rot3/values_w).T, rasterized=True,vmin=-1,vmax=1,cmap=cm.PiYG);\n",
    "colorbar()\n",
    "xlabel(r'$\\omega$ (GeV)')\n",
    "ylabel(r'$\\theta$ (urad)');\n",
    "\n",
    "\n",
    "\n",
    "\n",
    "# suptitle(f'{sampling} sampling')\n",
    "\n",
    "savefig(f'PolarizationDegree_energyangle2_{input_filename}.png',dpi=200)\n",
    "\n"
   ]
  },
  {
   "cell_type": "code",
   "execution_count": null,
   "metadata": {
    "ExecuteTime": {
     "start_time": "2023-08-15T14:10:53.767Z"
    }
   },
   "outputs": [],
   "source": [
    "# standard deviations\n",
    "\n",
    "spotsize = 10 # micron\n",
    "\n",
    "phi = arctan2(K2,K1)\n",
    "# rotated Stokes parameters\n",
    "Stokes_rot3 = cos(2*phi) * Stokes3 - sin(2*phi) * Stokes1\n",
    "Stokes_rot1 = sin(2*phi) * Stokes3 + cos(2*phi) * Stokes1\n",
    "PolDegree   = np.sqrt(Stokes1**2 + Stokes3**2)\n",
    "\n",
    "bbins = (54,52)\n",
    "\n",
    "# subplot(111,aspect=1)\n",
    "values_w_s, xedge, yedge = histogram2d(K0/1e9,1e6* np.sqrt(K1**2+K2**2)/K3,bins=bbins,weights=W*PolDegree )\n",
    "values_w  , xedge, yedge = histogram2d(K0/1e9,1e6* np.sqrt(K1**2+K2**2)/K3,bins=bbins,weights=W           )\n",
    "values_w_rot3, xedge, yedge = histogram2d(K0/1e9,1e6* np.sqrt(K1**2+K2**2)/K3,bins=bbins,weights=W*Stokes_rot3 )\n",
    "values_w_rot1 , xedge, yedge = histogram2d(K0/1e9,1e6* np.sqrt(K1**2+K2**2)/K3,bins=bbins,weights=W*Stokes_rot1 )\n",
    "\n",
    "mean_poldegree = values_w_s/values_w\n",
    "mean_rot1      = values_w_rot1/values_w\n",
    "mean_rot3      = values_w_rot3/values_w\n",
    "\n",
    "values_moment2_w_s, *_    = histogram2d(K0/1e9,1e6* np.sqrt(K1**2+K2**2)/K3,bins=bbins,weights=W*PolDegree**2 )\n",
    "values_moment2_w_rot1, *_ = histogram2d(K0/1e9,1e6* np.sqrt(K1**2+K2**2)/K3,bins=bbins,weights=W*Stokes_rot1**2 )\n",
    "values_moment2_w_rot3, *_ = histogram2d(K0/1e9,1e6* np.sqrt(K1**2+K2**2)/K3,bins=bbins,weights=W*Stokes_rot3**2 )\n",
    "\n",
    "var_s    = values_moment2_w_s    / values_w - mean_poldegree**2\n",
    "var_rot1 = values_moment2_w_rot1 / values_w - mean_rot1**2\n",
    "var_rot3 = values_moment2_w_rot3 / values_w - mean_rot3**2\n",
    "\n",
    "std_s       = sqrt(var_s)\n",
    "std_rot1    = sqrt(var_rot1)\n",
    "std_rot3    = sqrt(var_rot3)\n",
    "\n",
    "\n",
    "figure(figsize=(18,4))\n",
    "\n",
    "ax1=subplot(131)\n",
    "pcolormesh(xedge, yedge , std_s.T , cmap=cm.pink_r);\n",
    "colorbar()\n",
    "xlabel(r'$\\omega$ (GeV)')\n",
    "ylabel(r'$\\theta$ (urad)');\n",
    "title('STD Polarization degree')\n",
    "\n",
    "\n",
    "ax2=subplot(132)\n",
    "title('STD Stokes parameter S1 in lab frame')\n",
    "\n",
    "pcolormesh(xedge, yedge, std_rot1.T, rasterized=True,cmap=cm.pink_r);\n",
    "colorbar()\n",
    "xlabel(r'$\\omega$ (GeV)')\n",
    "ylabel(r'$\\theta$ (urad)');\n",
    "\n",
    "\n",
    "ax3=subplot(133)\n",
    "\n",
    "title('STD Stokes parameter S3 in lab frame')\n",
    "\n",
    "pcolormesh(xedge, yedge, std_rot3.T, rasterized=True,cmap=cm.pink_r);\n",
    "colorbar()\n",
    "xlabel(r'$\\omega$ (GeV)')\n",
    "ylabel(r'$\\theta$ (urad)');\n",
    "\n",
    "\n",
    "\n",
    "\n",
    "# suptitle(f'{sampling} sampling')\n",
    "\n",
    "# savefig(f'PolarizationDegree_energyangle2_{input_filename}.png',dpi=200)\n",
    "\n"
   ]
  },
  {
   "cell_type": "code",
   "execution_count": null,
   "metadata": {
    "ExecuteTime": {
     "start_time": "2023-08-15T14:10:53.768Z"
    }
   },
   "outputs": [],
   "source": [
    "selector1 = sqrt(xoffset**2+yoffset**2) < spotsize\n",
    "selector2 = sqrt((xoffset+X1)**2+(yoffset+X2)**2) < spotsize\n",
    "\n",
    "\n",
    "print ( f'IP-laser spot size: {spotsize:.2f} micron')\n",
    "print ( f'baseline          : {baseline/1e6:.2f} metres')\n",
    "print ('-'*42)\n",
    "\n",
    "print (f'photons in spot, {sampling} sampling:')\n",
    "print (f'macrophoton weight               : {amax(W):.4g}')\n",
    "print ( 'macrophotons, zero   source size :',sum( selector1 ) )\n",
    "print ( 'macrophotons, finite source size :',sum( selector2 ) )\n",
    "print ( 'photon weight, zero   source size:',sum(W[selector1 ] ) )\n",
    "print ( 'photon weight, finite source size:',sum(W[selector2 ] ) )\n"
   ]
  },
  {
   "cell_type": "markdown",
   "metadata": {},
   "source": [
    "### Photon Spectrum at IP"
   ]
  },
  {
   "cell_type": "code",
   "execution_count": null,
   "metadata": {
    "ExecuteTime": {
     "start_time": "2023-08-15T14:10:53.770Z"
    }
   },
   "outputs": [],
   "source": [
    "figure(figsize=(10,6))\n",
    "\n",
    "subplot(111)\n",
    "hist(K0[selector1]/1e9,bins=linspace(6,9,50),weights=W[selector1],alpha=1  ,fc='C0',label='no source size');\n",
    "hist(K0[selector2]/1e9,bins=linspace(6,9,50),weights=W[selector2],alpha=0.5,fc='C3',label='finite source size'); \n",
    "xlim(6,9)\n",
    "legend()\n",
    "xlabel('ICS photon energy (GeV)')\n",
    "ylabel('photon spectrum at IP')\n",
    "title(rf'{sampling} sampling')\n",
    "\n",
    "savefig(f'photon_spectrum_at_focus_{input_filename}.pdf')\n"
   ]
  },
  {
   "cell_type": "markdown",
   "metadata": {},
   "source": [
    "### Photon Weight Distribution at IP"
   ]
  },
  {
   "cell_type": "code",
   "execution_count": null,
   "metadata": {
    "ExecuteTime": {
     "start_time": "2023-08-15T14:10:53.771Z"
    }
   },
   "outputs": [],
   "source": [
    "figure(figsize=(10,6))\n",
    "base_weight = amax(W)\n",
    "bbins = linspace(0,base_weight,50) \n",
    "\n",
    "hist( W[selector1],bins=bbins,label='zero source size'  ,fc='C0');\n",
    "hist( W[selector2],bins=bbins,label='finite source size',fc='C3',alpha=0.5);\n",
    "\n",
    "\n",
    "xlabel('macrophoton weigths')\n",
    "ylabel('#macrophotons with weight')\n",
    "title(rf'{sampling} sampling')\n",
    "legend()\n",
    "savefig(f'photon_weights_{input_filename}.pdf')\n"
   ]
  },
  {
   "cell_type": "code",
   "execution_count": null,
   "metadata": {
    "ExecuteTime": {
     "start_time": "2023-08-15T14:10:53.772Z"
    }
   },
   "outputs": [],
   "source": [
    "figure(figsize=(10,6))\n",
    "base_weight = amax(W)\n",
    "bbins = linspace(0,base_weight,50) \n",
    "\n",
    "hist( W[selector1],bins=bbins,weights=W[selector1],label='zero source size'  ,fc='C0',alpha=1.0);\n",
    "hist( W[selector2],bins=bbins,weights=W[selector2],label='finite source size',fc='C3',alpha=0.5);\n",
    "\n",
    "xlabel('macrophoton weigths')\n",
    "ylabel('#macrophotons with weight')\n",
    "title(rf'{sampling} sampling')\n",
    "legend()\n",
    "savefig(f'photon_weights2_{input_filename}.pdf')\n"
   ]
  },
  {
   "cell_type": "markdown",
   "metadata": {},
   "source": [
    "# Electrons"
   ]
  },
  {
   "cell_type": "code",
   "execution_count": null,
   "metadata": {
    "ExecuteTime": {
     "start_time": "2023-08-15T14:10:53.774Z"
    }
   },
   "outputs": [],
   "source": [
    "fig,ax=subplots(1,3,figsize=(20,6))\n",
    "bbins=(50,50)\n",
    "\n",
    "p0=ax[0].hist2d(P3/1e9,P1/1e6,bins=bbins,weights=W,rasterized=True,cmap=cm.magma);\n",
    "# colorbar(p0,ax=ax[0])\n",
    "\n",
    "p1=ax[1].hist2d(P3/1e9,P2/1e6,bins=bbins,weights=W,rasterized=True,cmap=cm.magma);\n",
    "# colorbar(p1,ax=ax[1])\n",
    "\n",
    "p2=ax[2].hist2d(P1/1e6,P2/1e6,bins=bbins,weights=W,rasterized=True,cmap=cm.magma);\n",
    "# colorbar(p2,ax=ax[2])\n",
    "\n",
    "\n",
    "ax[0].set_xlabel(r'electron $p_z$ (GeV)')\n",
    "ax[1].set_xlabel(r'electron $p_z$ (GeV)')\n",
    "ax[2].set_xlabel(r'electron $p_x$ (MeV)')\n",
    "\n",
    "ax[0].set_ylabel(r'electron $p_x$ (MeV)')\n",
    "ax[1].set_ylabel(r'electron $p_y$ (MeV)')\n",
    "ax[2].set_ylabel(r'electron $p_y$ (MeV)')\n",
    "\n",
    "\n",
    "savefig(f'electrons_final_momentum_{input_filename}.pdf')\n"
   ]
  },
  {
   "cell_type": "code",
   "execution_count": null,
   "metadata": {
    "ExecuteTime": {
     "start_time": "2023-08-15T14:10:53.775Z"
    }
   },
   "outputs": [],
   "source": [
    "theta_ex = P1/P3\n",
    "theta_ey = P2/P3\n",
    "theta_e  = sqrt(theta_ex**2+theta_ey**2)\n",
    "\n",
    "bbins=(linspace(7.5,11.5,50),linspace(0,50,50))\n",
    "\n",
    "fig,ax=subplots(1,1,figsize=(10,6))\n",
    "\n",
    "hist2d( P0/1e9 , theta_e*1e6 , bins=bbins , weights=W/theta_e );\n",
    "\n",
    "xlabel(r'electron energy $E$ (GeV)')\n",
    "ylabel(r'electron angle $\\theta$ ($\\mu$rad)');\n",
    "\n",
    "savefig(f'electrons_final_energy_angle_{input_filename}.pdf')\n"
   ]
  },
  {
   "cell_type": "code",
   "execution_count": null,
   "metadata": {
    "ExecuteTime": {
     "start_time": "2023-08-15T14:10:53.776Z"
    }
   },
   "outputs": [],
   "source": [
    "fig,ax=subplots(1,1,figsize=(10,6))\n",
    "bbins=(50,50)\n",
    "\n",
    "p0=ax.hist(P3/1e9,bins=70,weights=W);\n",
    "p0=ax.hist(P0/1e9,bins=70,weights=W,alpha=0.5);\n",
    "xlabel(r'electron energy $E$ (GeV)')\n",
    "\n",
    "savefig(f'electrons_final_energy_{input_filename}.pdf')\n"
   ]
  },
  {
   "cell_type": "code",
   "execution_count": null,
   "metadata": {
    "ExecuteTime": {
     "start_time": "2023-08-15T14:10:53.777Z"
    }
   },
   "outputs": [],
   "source": [
    "theta_ex = P1/P3\n",
    "theta_ey = P2/P3\n",
    "theta_e  = sqrt(theta_ex**2+theta_ey**2)\n",
    "\n",
    "bbins=(linspace(16.4,16.6,50),linspace(-0.5,0.5,50))\n",
    "\n",
    "fig,ax=subplots(1,1,figsize=(10,6))\n",
    "\n",
    "hist2d( (P3+K3)/1e9 , (P1+K1)/1e6 , bins=bbins );\n",
    "xlabel(r'initial electron beam $p_z$')\n",
    "ylabel(r'initial electron beam $p_x$')\n",
    "\n",
    "\n"
   ]
  },
  {
   "cell_type": "code",
   "execution_count": null,
   "metadata": {
    "ExecuteTime": {
     "start_time": "2023-08-15T14:10:53.779Z"
    }
   },
   "outputs": [],
   "source": [
    "theta_x = K1/K3\n",
    "theta_y = K2/K3\n",
    "theta_e  = sqrt(theta_ex**2+theta_ey**2)\n",
    "\n",
    "bbins=(100,100)#(linspace(16.4,16.6,50),linspace(-0.5,0.5,50))\n",
    "\n",
    "fig,ax=subplots(1,1,figsize=(10,6))\n",
    "\n",
    "hist2d( theta_x , theta_y , bins=bbins );\n",
    "\n"
   ]
  },
  {
   "cell_type": "code",
   "execution_count": null,
   "metadata": {
    "ExecuteTime": {
     "start_time": "2023-08-15T14:10:53.780Z"
    }
   },
   "outputs": [],
   "source": [
    "omega0 = 4.1\n",
    "gamma0 = 32289.62818003914\n",
    "\n",
    "omega = 2*gamma0*omega0\n",
    "elec_mass = 511000.\n",
    "\n",
    "\n",
    "omega1 = omega/(1+2*omega/elec_mass)"
   ]
  },
  {
   "cell_type": "code",
   "execution_count": null,
   "metadata": {},
   "outputs": [],
   "source": []
  },
  {
   "cell_type": "code",
   "execution_count": null,
   "metadata": {},
   "outputs": [],
   "source": []
  },
  {
   "cell_type": "code",
   "execution_count": null,
   "metadata": {},
   "outputs": [],
   "source": []
  },
  {
   "cell_type": "code",
   "execution_count": null,
   "metadata": {},
   "outputs": [],
   "source": []
  },
  {
   "cell_type": "code",
   "execution_count": null,
   "metadata": {},
   "outputs": [],
   "source": []
  },
  {
   "cell_type": "code",
   "execution_count": null,
   "metadata": {},
   "outputs": [],
   "source": []
  },
  {
   "cell_type": "code",
   "execution_count": null,
   "metadata": {},
   "outputs": [],
   "source": []
  },
  {
   "cell_type": "code",
   "execution_count": null,
   "metadata": {},
   "outputs": [],
   "source": []
  },
  {
   "cell_type": "code",
   "execution_count": null,
   "metadata": {},
   "outputs": [],
   "source": []
  }
 ],
 "metadata": {
  "hide_input": false,
  "kernelspec": {
   "display_name": "luxeics",
   "language": "python",
   "name": "luxeics"
  },
  "language_info": {
   "codemirror_mode": {
    "name": "ipython",
    "version": 3
   },
   "file_extension": ".py",
   "mimetype": "text/x-python",
   "name": "python",
   "nbconvert_exporter": "python",
   "pygments_lexer": "ipython3",
   "version": "3.10.12"
  }
 },
 "nbformat": 4,
 "nbformat_minor": 4
}
